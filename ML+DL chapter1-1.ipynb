{
 "cells": [
  {
   "cell_type": "markdown",
   "id": "f4276012-5fe8-47db-96e1-d20babc0938b",
   "metadata": {
    "tags": []
   },
   "source": [
    "# Chapter 1.첫 머신러닝"
   ]
  },
  {
   "cell_type": "markdown",
   "id": "c3cbf423-dc0f-4e14-b635-75cbe4973322",
   "metadata": {
    "tags": []
   },
   "source": [
    "## 1-1 인공지능과 머신러닝, 딥러닝"
   ]
  },
  {
   "cell_type": "markdown",
   "id": "d631c2e2-2924-4774-a0fb-2e23524006bc",
   "metadata": {},
   "source": [
    "- 인공지능, 머신러닝, 딥러닝에 대해 알아보고 차이를 살펴봄"
   ]
  },
  {
   "cell_type": "markdown",
   "id": "aef2537f-330a-4291-ab1e-8a7ad9ff4ffd",
   "metadata": {},
   "source": [
    "### 인공지능이란?\n",
    "- 인공지능 : 사람처럼 학습하고 추론할 수 있는 지능을 가진 시스템을 만드는 기술\n",
    "    -> 강인공지능(Strong AI) or 인공일반지능 (Artificial general intelligence) \n",
    "    -> 약인공지능(Week AI)\n",
    "\n",
    "### 머신러닝이란?\n",
    "- 자동으로 데이터에서 규칙을 학습하는 알고리즘. scikit-learn\n",
    "\n",
    "### 딥러닝이란?\n",
    "- 머신러닝 알고리즘 중 인공 신경망(artificial neural network)을 기반으로 한 방법. Tensorflow,Pytorch"
   ]
  },
  {
   "cell_type": "code",
   "execution_count": null,
   "id": "55a42516-447f-4991-b6bc-5fa62f5fe504",
   "metadata": {},
   "outputs": [],
   "source": []
  }
 ],
 "metadata": {
  "kernelspec": {
   "display_name": "Python 3 (ipykernel)",
   "language": "python",
   "name": "python3"
  },
  "language_info": {
   "codemirror_mode": {
    "name": "ipython",
    "version": 3
   },
   "file_extension": ".py",
   "mimetype": "text/x-python",
   "name": "python",
   "nbconvert_exporter": "python",
   "pygments_lexer": "ipython3",
   "version": "3.9.7"
  }
 },
 "nbformat": 4,
 "nbformat_minor": 5
}
