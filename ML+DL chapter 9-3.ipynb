{
  "nbformat": 4,
  "nbformat_minor": 0,
  "metadata": {
    "colab": {
      "provenance": [],
      "gpuType": "T4"
    },
    "kernelspec": {
      "name": "python3",
      "display_name": "Python 3"
    },
    "language_info": {
      "name": "python"
    },
    "accelerator": "GPU"
  },
  "cells": [
    {
      "cell_type": "markdown",
      "source": [
        "# Chapter 09 텍스트를 위한 인공 신경망\n",
        "- 텍스트와 시계열 데이터 같은 순차 데이터에 잘 맞는 순환 신경망의 개념과 구성 요소에 대해 배움\n",
        "- 케라스 API로 기본적인 순환 신경망에서 고급 순환 신경망을 만들어 영화 감상평을 분류\n",
        "- 순환 신경망에서 발생하는 문제점과 이를 극복하기 위한 해결책"
      ],
      "metadata": {
        "id": "46U_DImFxjLU"
      }
    },
    {
      "cell_type": "markdown",
      "source": [
        "## 9-3 LSTM & GRU\n",
        "- 순환 신경망에서 중요한 기술인 LSTM과 GRU 셀을 사용한 모델을 만들어 봄"
      ],
      "metadata": {
        "id": "4cgyQ4u4xjIN"
      }
    },
    {
      "cell_type": "markdown",
      "source": [
        "### LSTM\n",
        "- Long Short-Term Memory : 단기 기억을 오래 기억하기 위해 고안"
      ],
      "metadata": {
        "id": "fc_0LeJ0x32g"
      }
    },
    {
      "cell_type": "markdown",
      "source": [
        "### LSTM 신경망 훈련하기"
      ],
      "metadata": {
        "id": "R045_q8XyC1C"
      }
    },
    {
      "cell_type": "code",
      "source": [
        "from tensorflow.keras.datasets import imdb\n",
        "from sklearn.model_selection import train_test_split\n",
        "(train_input,train_target),(test_input,test_target)=imdb.load_data(num_words=500)\n",
        "train_input,val_input,train_target,val_target=train_test_split(train_input,train_target,test_size=0.2,random_state=42)"
      ],
      "metadata": {
        "id": "qrJlFajWz-aR",
        "colab": {
          "base_uri": "https://localhost:8080/"
        },
        "outputId": "61be0fdb-e789-4d85-e75a-a5450e3bd3b3"
      },
      "execution_count": 1,
      "outputs": [
        {
          "output_type": "stream",
          "name": "stdout",
          "text": [
            "Downloading data from https://storage.googleapis.com/tensorflow/tf-keras-datasets/imdb.npz\n",
            "17464789/17464789 [==============================] - 0s 0us/step\n"
          ]
        }
      ]
    },
    {
      "cell_type": "code",
      "source": [
        "from tensorflow.keras.preprocessing.sequence import pad_sequences\n",
        "train_seq=pad_sequences(train_input,maxlen=100)\n",
        "val_seq=pad_sequences(val_input,maxlen=100)"
      ],
      "metadata": {
        "id": "pbT9TGR0Vc_V"
      },
      "execution_count": 2,
      "outputs": []
    },
    {
      "cell_type": "code",
      "source": [
        "from tensorflow import keras\n",
        "model=keras.Sequential()\n",
        "model.add(keras.layers.Embedding(500,16,input_length=100))\n",
        "model.add(keras.layers.LSTM(8))\n",
        "model.add(keras.layers.Dense(1,activation='sigmoid'))"
      ],
      "metadata": {
        "id": "b9N6t9kRV0Ek"
      },
      "execution_count": 3,
      "outputs": []
    },
    {
      "cell_type": "code",
      "source": [
        "model.summary()"
      ],
      "metadata": {
        "colab": {
          "base_uri": "https://localhost:8080/"
        },
        "id": "cGv-aYpkWGNU",
        "outputId": "2c027bcd-13b7-4198-8a74-29b2aaf108d2"
      },
      "execution_count": 4,
      "outputs": [
        {
          "output_type": "stream",
          "name": "stdout",
          "text": [
            "Model: \"sequential\"\n",
            "_________________________________________________________________\n",
            " Layer (type)                Output Shape              Param #   \n",
            "=================================================================\n",
            " embedding (Embedding)       (None, 100, 16)           8000      \n",
            "                                                                 \n",
            " lstm (LSTM)                 (None, 8)                 800       \n",
            "                                                                 \n",
            " dense (Dense)               (None, 1)                 9         \n",
            "                                                                 \n",
            "=================================================================\n",
            "Total params: 8809 (34.41 KB)\n",
            "Trainable params: 8809 (34.41 KB)\n",
            "Non-trainable params: 0 (0.00 Byte)\n",
            "_________________________________________________________________\n"
          ]
        }
      ]
    },
    {
      "cell_type": "code",
      "source": [
        "rmsprop=keras.optimizers.RMSprop(learning_rate=1e-4)\n",
        "model.compile(optimizer=rmsprop,loss='binary_crossentropy',metrics=['accuracy'])\n",
        "checkpoint_cb=keras.callbacks.ModelCheckpoint('best-lstm-model.h5',save_best_only=True)\n",
        "early_stopping_cb=keras.callbacks.EarlyStopping(patience=3,restore_best_weights=True)\n",
        "history=model.fit(train_seq,train_target,epochs=100,batch_size=64,validation_data=(val_seq,val_target),callbacks=[checkpoint_cb,early_stopping_cb])"
      ],
      "metadata": {
        "colab": {
          "base_uri": "https://localhost:8080/"
        },
        "id": "IDoWIdg1WIaR",
        "outputId": "2d9db116-60a9-4c09-8136-81546ca0921f"
      },
      "execution_count": 6,
      "outputs": [
        {
          "output_type": "stream",
          "name": "stdout",
          "text": [
            "Epoch 1/100\n",
            "313/313 [==============================] - 15s 28ms/step - loss: 0.6928 - accuracy: 0.5285 - val_loss: 0.6924 - val_accuracy: 0.5518\n",
            "Epoch 2/100\n",
            " 17/313 [>.............................] - ETA: 1s - loss: 0.6920 - accuracy: 0.5625"
          ]
        },
        {
          "output_type": "stream",
          "name": "stderr",
          "text": [
            "/usr/local/lib/python3.10/dist-packages/keras/src/engine/training.py:3000: UserWarning: You are saving your model as an HDF5 file via `model.save()`. This file format is considered legacy. We recommend using instead the native Keras format, e.g. `model.save('my_model.keras')`.\n",
            "  saving_api.save_model(\n"
          ]
        },
        {
          "output_type": "stream",
          "name": "stdout",
          "text": [
            "313/313 [==============================] - 3s 10ms/step - loss: 0.6917 - accuracy: 0.5757 - val_loss: 0.6911 - val_accuracy: 0.5838\n",
            "Epoch 3/100\n",
            "313/313 [==============================] - 3s 10ms/step - loss: 0.6898 - accuracy: 0.6058 - val_loss: 0.6887 - val_accuracy: 0.6116\n",
            "Epoch 4/100\n",
            "313/313 [==============================] - 4s 12ms/step - loss: 0.6860 - accuracy: 0.6251 - val_loss: 0.6835 - val_accuracy: 0.6282\n",
            "Epoch 5/100\n",
            "313/313 [==============================] - 3s 9ms/step - loss: 0.6775 - accuracy: 0.6469 - val_loss: 0.6704 - val_accuracy: 0.6534\n",
            "Epoch 6/100\n",
            "313/313 [==============================] - 3s 8ms/step - loss: 0.6462 - accuracy: 0.6757 - val_loss: 0.6147 - val_accuracy: 0.7010\n",
            "Epoch 7/100\n",
            "313/313 [==============================] - 3s 8ms/step - loss: 0.5911 - accuracy: 0.7172 - val_loss: 0.5822 - val_accuracy: 0.7190\n",
            "Epoch 8/100\n",
            "313/313 [==============================] - 6s 20ms/step - loss: 0.5655 - accuracy: 0.7357 - val_loss: 0.5589 - val_accuracy: 0.7388\n",
            "Epoch 9/100\n",
            "313/313 [==============================] - 4s 12ms/step - loss: 0.5436 - accuracy: 0.7513 - val_loss: 0.5398 - val_accuracy: 0.7516\n",
            "Epoch 10/100\n",
            "313/313 [==============================] - 6s 18ms/step - loss: 0.5252 - accuracy: 0.7613 - val_loss: 0.5228 - val_accuracy: 0.7592\n",
            "Epoch 11/100\n",
            "313/313 [==============================] - 5s 17ms/step - loss: 0.5092 - accuracy: 0.7696 - val_loss: 0.5094 - val_accuracy: 0.7632\n",
            "Epoch 12/100\n",
            "313/313 [==============================] - 4s 12ms/step - loss: 0.4949 - accuracy: 0.7779 - val_loss: 0.4968 - val_accuracy: 0.7710\n",
            "Epoch 13/100\n",
            "313/313 [==============================] - 5s 17ms/step - loss: 0.4825 - accuracy: 0.7867 - val_loss: 0.4861 - val_accuracy: 0.7822\n",
            "Epoch 14/100\n",
            "313/313 [==============================] - 4s 12ms/step - loss: 0.4716 - accuracy: 0.7921 - val_loss: 0.4780 - val_accuracy: 0.7872\n",
            "Epoch 15/100\n",
            "313/313 [==============================] - 4s 12ms/step - loss: 0.4626 - accuracy: 0.7952 - val_loss: 0.4705 - val_accuracy: 0.7878\n",
            "Epoch 16/100\n",
            "313/313 [==============================] - 6s 19ms/step - loss: 0.4545 - accuracy: 0.7980 - val_loss: 0.4639 - val_accuracy: 0.7910\n",
            "Epoch 17/100\n",
            "313/313 [==============================] - 6s 18ms/step - loss: 0.4476 - accuracy: 0.8041 - val_loss: 0.4599 - val_accuracy: 0.7894\n",
            "Epoch 18/100\n",
            "313/313 [==============================] - 4s 12ms/step - loss: 0.4417 - accuracy: 0.8061 - val_loss: 0.4544 - val_accuracy: 0.7928\n",
            "Epoch 19/100\n",
            "313/313 [==============================] - 5s 17ms/step - loss: 0.4369 - accuracy: 0.8083 - val_loss: 0.4544 - val_accuracy: 0.7924\n",
            "Epoch 20/100\n",
            "313/313 [==============================] - 4s 12ms/step - loss: 0.4327 - accuracy: 0.8092 - val_loss: 0.4489 - val_accuracy: 0.7946\n",
            "Epoch 21/100\n",
            "313/313 [==============================] - 4s 13ms/step - loss: 0.4292 - accuracy: 0.8109 - val_loss: 0.4454 - val_accuracy: 0.7970\n",
            "Epoch 22/100\n",
            "313/313 [==============================] - 5s 16ms/step - loss: 0.4261 - accuracy: 0.8124 - val_loss: 0.4448 - val_accuracy: 0.7940\n",
            "Epoch 23/100\n",
            "313/313 [==============================] - 3s 9ms/step - loss: 0.4233 - accuracy: 0.8123 - val_loss: 0.4420 - val_accuracy: 0.7994\n",
            "Epoch 24/100\n",
            "313/313 [==============================] - 2s 8ms/step - loss: 0.4213 - accuracy: 0.8125 - val_loss: 0.4403 - val_accuracy: 0.7978\n",
            "Epoch 25/100\n",
            "313/313 [==============================] - 3s 10ms/step - loss: 0.4191 - accuracy: 0.8138 - val_loss: 0.4399 - val_accuracy: 0.7992\n",
            "Epoch 26/100\n",
            "313/313 [==============================] - 3s 9ms/step - loss: 0.4175 - accuracy: 0.8134 - val_loss: 0.4382 - val_accuracy: 0.7996\n",
            "Epoch 27/100\n",
            "313/313 [==============================] - 3s 8ms/step - loss: 0.4159 - accuracy: 0.8134 - val_loss: 0.4407 - val_accuracy: 0.7954\n",
            "Epoch 28/100\n",
            "313/313 [==============================] - 3s 8ms/step - loss: 0.4149 - accuracy: 0.8137 - val_loss: 0.4367 - val_accuracy: 0.7992\n",
            "Epoch 29/100\n",
            "313/313 [==============================] - 3s 8ms/step - loss: 0.4140 - accuracy: 0.8138 - val_loss: 0.4359 - val_accuracy: 0.7984\n",
            "Epoch 30/100\n",
            "313/313 [==============================] - 3s 10ms/step - loss: 0.4128 - accuracy: 0.8155 - val_loss: 0.4357 - val_accuracy: 0.7988\n",
            "Epoch 31/100\n",
            "313/313 [==============================] - 3s 8ms/step - loss: 0.4120 - accuracy: 0.8153 - val_loss: 0.4358 - val_accuracy: 0.7996\n",
            "Epoch 32/100\n",
            "313/313 [==============================] - 2s 8ms/step - loss: 0.4114 - accuracy: 0.8149 - val_loss: 0.4347 - val_accuracy: 0.7976\n",
            "Epoch 33/100\n",
            "313/313 [==============================] - 2s 8ms/step - loss: 0.4103 - accuracy: 0.8164 - val_loss: 0.4339 - val_accuracy: 0.7976\n",
            "Epoch 34/100\n",
            "313/313 [==============================] - 3s 9ms/step - loss: 0.4096 - accuracy: 0.8160 - val_loss: 0.4337 - val_accuracy: 0.7972\n",
            "Epoch 35/100\n",
            "313/313 [==============================] - 3s 10ms/step - loss: 0.4091 - accuracy: 0.8146 - val_loss: 0.4349 - val_accuracy: 0.8022\n",
            "Epoch 36/100\n",
            "313/313 [==============================] - 3s 8ms/step - loss: 0.4086 - accuracy: 0.8146 - val_loss: 0.4335 - val_accuracy: 0.8002\n",
            "Epoch 37/100\n",
            "313/313 [==============================] - 2s 8ms/step - loss: 0.4079 - accuracy: 0.8158 - val_loss: 0.4326 - val_accuracy: 0.7988\n",
            "Epoch 38/100\n",
            "313/313 [==============================] - 3s 10ms/step - loss: 0.4074 - accuracy: 0.8157 - val_loss: 0.4358 - val_accuracy: 0.7974\n",
            "Epoch 39/100\n",
            "313/313 [==============================] - 4s 12ms/step - loss: 0.4065 - accuracy: 0.8166 - val_loss: 0.4362 - val_accuracy: 0.7950\n",
            "Epoch 40/100\n",
            "313/313 [==============================] - 3s 8ms/step - loss: 0.4063 - accuracy: 0.8166 - val_loss: 0.4328 - val_accuracy: 0.8002\n"
          ]
        }
      ]
    },
    {
      "cell_type": "code",
      "source": [
        "import matplotlib.pyplot as plt\n",
        "plt.plot(history.history['loss'])\n",
        "plt.plot(history.history['val_loss'])\n",
        "plt.xlabel('epoch')\n",
        "plt.ylabel('loss')\n",
        "plt.legend(['train','val'])\n",
        "plt.show()"
      ],
      "metadata": {
        "colab": {
          "base_uri": "https://localhost:8080/",
          "height": 449
        },
        "id": "a7J5ttcNYGZ5",
        "outputId": "f2594d9b-5b9d-4d5c-e388-06081f6c2778"
      },
      "execution_count": 8,
      "outputs": [
        {
          "output_type": "display_data",
          "data": {
            "text/plain": [
              "<Figure size 640x480 with 1 Axes>"
            ],
            "image/png": "[encoded data removed]"
          },
          "metadata": {}
        }
      ]
    },
    {
      "cell_type": "markdown",
      "source": [
        "### 2개의 층을 연결하기"
      ],
      "metadata": {
        "id": "o2viWKkuYkmI"
      }
    },
    {
      "cell_type": "code",
      "source": [
        "model3=keras.Sequential()\n",
        "model3.add(keras.layers.Embedding(500,16,input_length=100))\n",
        "model3.add(keras.layers.LSTM(8,dropout=0.3,return_sequences=True))\n",
        "model3.add(keras.layers.LSTM(8,dropout=0.3))\n",
        "model3.add(keras.layers.Dense(1,activation='sigmoid'))"
      ],
      "metadata": {
        "id": "RwsqM75HYPLm"
      },
      "execution_count": 9,
      "outputs": []
    },
    {
      "cell_type": "code",
      "source": [
        "model3.summary()"
      ],
      "metadata": {
        "colab": {
          "base_uri": "https://localhost:8080/"
        },
        "id": "zJzu7AbcY8RG",
        "outputId": "fa93880d-b155-4d0c-bbb7-b69ff475e51d"
      },
      "execution_count": 10,
      "outputs": [
        {
          "output_type": "stream",
          "name": "stdout",
          "text": [
            "Model: \"sequential_1\"\n",
            "_________________________________________________________________\n",
            " Layer (type)                Output Shape              Param #   \n",
            "=================================================================\n",
            " embedding_1 (Embedding)     (None, 100, 16)           8000      \n",
            "                                                                 \n",
            " lstm_1 (LSTM)               (None, 100, 8)            800       \n",
            "                                                                 \n",
            " lstm_2 (LSTM)               (None, 8)                 544       \n",
            "                                                                 \n",
            " dense_1 (Dense)             (None, 1)                 9         \n",
            "                                                                 \n",
            "=================================================================\n",
            "Total params: 9353 (36.54 KB)\n",
            "Trainable params: 9353 (36.54 KB)\n",
            "Non-trainable params: 0 (0.00 Byte)\n",
            "_________________________________________________________________\n"
          ]
        }
      ]
    },
    {
      "cell_type": "code",
      "source": [
        "rmsprop=keras.optimizers.RMSprop(learning_rate=1e-4)\n",
        "model3.compile(optimizer=rmsprop,loss='binary_crossentropy',metrics=['accuracy'])\n",
        "checkpoint_cb=keras.callbacks.ModelCheckpoint('best-2rnn-model.h5',save_best_only=True)\n",
        "early_stopping_cb=keras.callbacks.EarlyStopping(patience=3,restore_best_weights=True)\n",
        "history=model3.fit(train_seq,train_target,epochs=100,batch_size=64,validation_data=(val_seq,val_target),callbacks=[checkpoint_cb,early_stopping_cb])"
      ],
      "metadata": {
        "colab": {
          "base_uri": "https://localhost:8080/"
        },
        "id": "qho1QSz5Y9xp",
        "outputId": "f5cca21d-114e-4b72-f2f0-47589ecc8e99"
      },
      "execution_count": 11,
      "outputs": [
        {
          "output_type": "stream",
          "name": "stdout",
          "text": [
            "Epoch 1/100\n",
            "313/313 [==============================] - 14s 29ms/step - loss: 0.6931 - accuracy: 0.5055 - val_loss: 0.6929 - val_accuracy: 0.5304\n",
            "Epoch 2/100\n",
            " 16/313 [>.............................] - ETA: 3s - loss: 0.6927 - accuracy: 0.5430"
          ]
        },
        {
          "output_type": "stream",
          "name": "stderr",
          "text": [
            "/usr/local/lib/python3.10/dist-packages/keras/src/engine/training.py:3000: UserWarning: You are saving your model as an HDF5 file via `model.save()`. This file format is considered legacy. We recommend using instead the native Keras format, e.g. `model.save('my_model.keras')`.\n",
            "  saving_api.save_model(\n"
          ]
        },
        {
          "output_type": "stream",
          "name": "stdout",
          "text": [
            "313/313 [==============================] - 4s 14ms/step - loss: 0.6924 - accuracy: 0.5550 - val_loss: 0.6921 - val_accuracy: 0.5592\n",
            "Epoch 3/100\n",
            "313/313 [==============================] - 4s 14ms/step - loss: 0.6910 - accuracy: 0.5881 - val_loss: 0.6895 - val_accuracy: 0.6168\n",
            "Epoch 4/100\n",
            "313/313 [==============================] - 5s 15ms/step - loss: 0.6853 - accuracy: 0.6220 - val_loss: 0.6787 - val_accuracy: 0.6612\n",
            "Epoch 5/100\n",
            "313/313 [==============================] - 4s 12ms/step - loss: 0.6591 - accuracy: 0.6619 - val_loss: 0.6276 - val_accuracy: 0.6812\n",
            "Epoch 6/100\n",
            "313/313 [==============================] - 4s 14ms/step - loss: 0.5926 - accuracy: 0.7014 - val_loss: 0.5604 - val_accuracy: 0.7320\n",
            "Epoch 7/100\n",
            "313/313 [==============================] - 4s 14ms/step - loss: 0.5484 - accuracy: 0.7371 - val_loss: 0.5394 - val_accuracy: 0.7440\n",
            "Epoch 8/100\n",
            "313/313 [==============================] - 4s 14ms/step - loss: 0.5255 - accuracy: 0.7533 - val_loss: 0.5120 - val_accuracy: 0.7600\n",
            "Epoch 9/100\n",
            "313/313 [==============================] - 4s 14ms/step - loss: 0.5081 - accuracy: 0.7646 - val_loss: 0.4952 - val_accuracy: 0.7696\n",
            "Epoch 10/100\n",
            "313/313 [==============================] - 4s 13ms/step - loss: 0.4937 - accuracy: 0.7750 - val_loss: 0.4826 - val_accuracy: 0.7786\n",
            "Epoch 11/100\n",
            "313/313 [==============================] - 4s 13ms/step - loss: 0.4800 - accuracy: 0.7836 - val_loss: 0.4737 - val_accuracy: 0.7836\n",
            "Epoch 12/100\n",
            "313/313 [==============================] - 5s 16ms/step - loss: 0.4724 - accuracy: 0.7861 - val_loss: 0.4713 - val_accuracy: 0.7800\n",
            "Epoch 13/100\n",
            "313/313 [==============================] - 4s 12ms/step - loss: 0.4658 - accuracy: 0.7872 - val_loss: 0.4622 - val_accuracy: 0.7882\n",
            "Epoch 14/100\n",
            "313/313 [==============================] - 4s 13ms/step - loss: 0.4600 - accuracy: 0.7908 - val_loss: 0.4584 - val_accuracy: 0.7874\n",
            "Epoch 15/100\n",
            "313/313 [==============================] - 4s 14ms/step - loss: 0.4537 - accuracy: 0.7936 - val_loss: 0.4544 - val_accuracy: 0.7908\n",
            "Epoch 16/100\n",
            "313/313 [==============================] - 4s 13ms/step - loss: 0.4504 - accuracy: 0.7968 - val_loss: 0.4509 - val_accuracy: 0.7928\n",
            "Epoch 17/100\n",
            "313/313 [==============================] - 4s 12ms/step - loss: 0.4464 - accuracy: 0.7978 - val_loss: 0.4511 - val_accuracy: 0.7850\n",
            "Epoch 18/100\n",
            "313/313 [==============================] - 4s 14ms/step - loss: 0.4436 - accuracy: 0.7988 - val_loss: 0.4466 - val_accuracy: 0.7924\n",
            "Epoch 19/100\n",
            "313/313 [==============================] - 5s 17ms/step - loss: 0.4416 - accuracy: 0.8019 - val_loss: 0.4490 - val_accuracy: 0.7958\n",
            "Epoch 20/100\n",
            "313/313 [==============================] - 4s 13ms/step - loss: 0.4399 - accuracy: 0.8005 - val_loss: 0.4453 - val_accuracy: 0.7946\n",
            "Epoch 21/100\n",
            "313/313 [==============================] - 5s 16ms/step - loss: 0.4369 - accuracy: 0.8017 - val_loss: 0.4437 - val_accuracy: 0.7952\n",
            "Epoch 22/100\n",
            "313/313 [==============================] - 4s 12ms/step - loss: 0.4358 - accuracy: 0.8048 - val_loss: 0.4423 - val_accuracy: 0.7946\n",
            "Epoch 23/100\n",
            "313/313 [==============================] - 4s 13ms/step - loss: 0.4351 - accuracy: 0.8019 - val_loss: 0.4417 - val_accuracy: 0.7956\n",
            "Epoch 24/100\n",
            "313/313 [==============================] - 4s 13ms/step - loss: 0.4328 - accuracy: 0.8023 - val_loss: 0.4405 - val_accuracy: 0.7928\n",
            "Epoch 25/100\n",
            "313/313 [==============================] - 4s 13ms/step - loss: 0.4342 - accuracy: 0.8029 - val_loss: 0.4443 - val_accuracy: 0.7988\n",
            "Epoch 26/100\n",
            "313/313 [==============================] - 4s 13ms/step - loss: 0.4325 - accuracy: 0.8055 - val_loss: 0.4423 - val_accuracy: 0.7938\n",
            "Epoch 27/100\n",
            "313/313 [==============================] - 4s 14ms/step - loss: 0.4314 - accuracy: 0.8035 - val_loss: 0.4408 - val_accuracy: 0.7932\n"
          ]
        }
      ]
    },
    {
      "cell_type": "code",
      "source": [
        "plt.plot(history.history['loss'])\n",
        "plt.plot(history.history['val_loss'])\n",
        "plt.xlabel('epoch')\n",
        "plt.ylabel('loss')\n",
        "plt.legend(['train','val'])\n",
        "plt.show()"
      ],
      "metadata": {
        "colab": {
          "base_uri": "https://localhost:8080/",
          "height": 449
        },
        "id": "H1iYgw3raGxj",
        "outputId": "2ba7bda0-61ce-4423-c23d-adcb46e26dc1"
      },
      "execution_count": 12,
      "outputs": [
        {
          "output_type": "display_data",
          "data": {
            "text/plain": [
              "<Figure size 640x480 with 1 Axes>"
            ],
            "image/png": "[encoded data removed]"
          },
          "metadata": {}
        }
      ]
    },
    {
      "cell_type": "markdown",
      "source": [
        "### GRU 신경망 훈련하기"
      ],
      "metadata": {
        "id": "Ywloh5W_bANV"
      }
    },
    {
      "cell_type": "code",
      "source": [
        "model4=keras.Sequential()\n",
        "model4.add(keras.layers.Embedding(500,16,input_length=100))\n",
        "model4.add(keras.layers.GRU(8))\n",
        "model4.add(keras.layers.Dense(1,activation='sigmoid'))"
      ],
      "metadata": {
        "id": "VAnnwAvOa6jJ"
      },
      "execution_count": 13,
      "outputs": []
    },
    {
      "cell_type": "code",
      "source": [
        "model4.summary()"
      ],
      "metadata": {
        "colab": {
          "base_uri": "https://localhost:8080/"
        },
        "id": "nMJgcHf1bTKH",
        "outputId": "15a4202d-4cbd-4ae8-ff50-0bf8cff5cf71"
      },
      "execution_count": 14,
      "outputs": [
        {
          "output_type": "stream",
          "name": "stdout",
          "text": [
            "Model: \"sequential_2\"\n",
            "_________________________________________________________________\n",
            " Layer (type)                Output Shape              Param #   \n",
            "=================================================================\n",
            " embedding_2 (Embedding)     (None, 100, 16)           8000      \n",
            "                                                                 \n",
            " gru (GRU)                   (None, 8)                 624       \n",
            "                                                                 \n",
            " dense_2 (Dense)             (None, 1)                 9         \n",
            "                                                                 \n",
            "=================================================================\n",
            "Total params: 8633 (33.72 KB)\n",
            "Trainable params: 8633 (33.72 KB)\n",
            "Non-trainable params: 0 (0.00 Byte)\n",
            "_________________________________________________________________\n"
          ]
        }
      ]
    },
    {
      "cell_type": "code",
      "source": [
        "rmsprop=keras.optimizers.RMSprop(learning_rate=1e-4)\n",
        "model4.compile(optimizer=rmsprop,loss='binary_crossentropy',metrics=['accuracy'])\n",
        "checkpoint_cb=keras.callbacks.ModelCheckpoint('best-gru-model.h5',save_best_only=True)\n",
        "early_stopping_cb=keras.callbacks.EarlyStopping(patience=3,restore_best_weights=True)\n",
        "history=model4.fit(train_seq,train_target,epochs=100,batch_size=64,validation_data=(val_seq,val_target),callbacks=[checkpoint_cb,early_stopping_cb])"
      ],
      "metadata": {
        "colab": {
          "base_uri": "https://localhost:8080/"
        },
        "id": "FSE1Q55NbUly",
        "outputId": "79f1dfa9-72e7-4f28-9d01-682ec1d4eda1"
      },
      "execution_count": 16,
      "outputs": [
        {
          "output_type": "stream",
          "name": "stdout",
          "text": [
            "Epoch 1/100\n",
            "313/313 [==============================] - 10s 23ms/step - loss: 0.6925 - accuracy: 0.5232 - val_loss: 0.6917 - val_accuracy: 0.5460\n",
            "Epoch 2/100\n",
            "  8/313 [..............................] - ETA: 2s - loss: 0.6917 - accuracy: 0.5352"
          ]
        },
        {
          "output_type": "stream",
          "name": "stderr",
          "text": [
            "/usr/local/lib/python3.10/dist-packages/keras/src/engine/training.py:3000: UserWarning: You are saving your model as an HDF5 file via `model.save()`. This file format is considered legacy. We recommend using instead the native Keras format, e.g. `model.save('my_model.keras')`.\n",
            "  saving_api.save_model(\n"
          ]
        },
        {
          "output_type": "stream",
          "name": "stdout",
          "text": [
            "313/313 [==============================] - 3s 9ms/step - loss: 0.6909 - accuracy: 0.5550 - val_loss: 0.6900 - val_accuracy: 0.5602\n",
            "Epoch 3/100\n",
            "313/313 [==============================] - 3s 9ms/step - loss: 0.6885 - accuracy: 0.5703 - val_loss: 0.6874 - val_accuracy: 0.5700\n",
            "Epoch 4/100\n",
            "313/313 [==============================] - 3s 11ms/step - loss: 0.6849 - accuracy: 0.5872 - val_loss: 0.6834 - val_accuracy: 0.5872\n",
            "Epoch 5/100\n",
            "313/313 [==============================] - 3s 10ms/step - loss: 0.6793 - accuracy: 0.6002 - val_loss: 0.6771 - val_accuracy: 0.5962\n",
            "Epoch 6/100\n",
            "313/313 [==============================] - 3s 8ms/step - loss: 0.6706 - accuracy: 0.6161 - val_loss: 0.6675 - val_accuracy: 0.6090\n",
            "Epoch 7/100\n",
            "313/313 [==============================] - 3s 8ms/step - loss: 0.6577 - accuracy: 0.6360 - val_loss: 0.6531 - val_accuracy: 0.6308\n",
            "Epoch 8/100\n",
            "313/313 [==============================] - 3s 11ms/step - loss: 0.6384 - accuracy: 0.6541 - val_loss: 0.6318 - val_accuracy: 0.6522\n",
            "Epoch 9/100\n",
            "313/313 [==============================] - 3s 9ms/step - loss: 0.6075 - accuracy: 0.6776 - val_loss: 0.5945 - val_accuracy: 0.6924\n",
            "Epoch 10/100\n",
            "313/313 [==============================] - 3s 8ms/step - loss: 0.5519 - accuracy: 0.7203 - val_loss: 0.5297 - val_accuracy: 0.7376\n",
            "Epoch 11/100\n",
            "313/313 [==============================] - 2s 8ms/step - loss: 0.5013 - accuracy: 0.7542 - val_loss: 0.5013 - val_accuracy: 0.7572\n",
            "Epoch 12/100\n",
            "313/313 [==============================] - 3s 9ms/step - loss: 0.4801 - accuracy: 0.7705 - val_loss: 0.4841 - val_accuracy: 0.7690\n",
            "Epoch 13/100\n",
            "313/313 [==============================] - 3s 9ms/step - loss: 0.4647 - accuracy: 0.7814 - val_loss: 0.4751 - val_accuracy: 0.7754\n",
            "Epoch 14/100\n",
            "313/313 [==============================] - 3s 8ms/step - loss: 0.4536 - accuracy: 0.7901 - val_loss: 0.4630 - val_accuracy: 0.7832\n",
            "Epoch 15/100\n",
            "313/313 [==============================] - 3s 8ms/step - loss: 0.4459 - accuracy: 0.7943 - val_loss: 0.4568 - val_accuracy: 0.7866\n",
            "Epoch 16/100\n",
            "313/313 [==============================] - 3s 8ms/step - loss: 0.4397 - accuracy: 0.8001 - val_loss: 0.4527 - val_accuracy: 0.7902\n",
            "Epoch 17/100\n",
            "313/313 [==============================] - 3s 11ms/step - loss: 0.4350 - accuracy: 0.8040 - val_loss: 0.4501 - val_accuracy: 0.7924\n",
            "Epoch 18/100\n",
            "313/313 [==============================] - 3s 8ms/step - loss: 0.4314 - accuracy: 0.8052 - val_loss: 0.4484 - val_accuracy: 0.7910\n",
            "Epoch 19/100\n",
            "313/313 [==============================] - 3s 8ms/step - loss: 0.4281 - accuracy: 0.8071 - val_loss: 0.4510 - val_accuracy: 0.7946\n",
            "Epoch 20/100\n",
            "313/313 [==============================] - 3s 8ms/step - loss: 0.4261 - accuracy: 0.8084 - val_loss: 0.4525 - val_accuracy: 0.7934\n",
            "Epoch 21/100\n",
            "313/313 [==============================] - 3s 9ms/step - loss: 0.4242 - accuracy: 0.8101 - val_loss: 0.4442 - val_accuracy: 0.7956\n",
            "Epoch 22/100\n",
            "313/313 [==============================] - 3s 9ms/step - loss: 0.4228 - accuracy: 0.8113 - val_loss: 0.4451 - val_accuracy: 0.7972\n",
            "Epoch 23/100\n",
            "313/313 [==============================] - 2s 8ms/step - loss: 0.4214 - accuracy: 0.8102 - val_loss: 0.4432 - val_accuracy: 0.7970\n",
            "Epoch 24/100\n",
            "313/313 [==============================] - 3s 8ms/step - loss: 0.4203 - accuracy: 0.8120 - val_loss: 0.4430 - val_accuracy: 0.7966\n",
            "Epoch 25/100\n",
            "313/313 [==============================] - 2s 8ms/step - loss: 0.4192 - accuracy: 0.8127 - val_loss: 0.4443 - val_accuracy: 0.7964\n",
            "Epoch 26/100\n",
            "313/313 [==============================] - 3s 11ms/step - loss: 0.4184 - accuracy: 0.8140 - val_loss: 0.4416 - val_accuracy: 0.7968\n",
            "Epoch 27/100\n",
            "313/313 [==============================] - 3s 8ms/step - loss: 0.4177 - accuracy: 0.8125 - val_loss: 0.4421 - val_accuracy: 0.7956\n",
            "Epoch 28/100\n",
            "313/313 [==============================] - 2s 8ms/step - loss: 0.4173 - accuracy: 0.8139 - val_loss: 0.4423 - val_accuracy: 0.7948\n",
            "Epoch 29/100\n",
            "313/313 [==============================] - 3s 9ms/step - loss: 0.4168 - accuracy: 0.8140 - val_loss: 0.4460 - val_accuracy: 0.7912\n"
          ]
        }
      ]
    },
    {
      "cell_type": "code",
      "source": [
        "plt.plot(history.history['loss'])\n",
        "plt.plot(history.history['val_loss'])\n",
        "plt.xlabel('epoch')\n",
        "plt.ylabel('loss')\n",
        "plt.legend(['train','val'])\n",
        "plt.show()"
      ],
      "metadata": {
        "colab": {
          "base_uri": "https://localhost:8080/",
          "height": 449
        },
        "id": "DxCAZchjcEbk",
        "outputId": "0d7bf8cb-52ba-47f3-99f8-a26682c3aa84"
      },
      "execution_count": 17,
      "outputs": [
        {
          "output_type": "display_data",
          "data": {
            "text/plain": [
              "<Figure size 640x480 with 1 Axes>"
            ],
            "image/png": "[encoded data removed]"
          },
          "metadata": {}
        }
      ]
    },
    {
      "cell_type": "code",
      "source": [
        "test_seq=pad_sequences(test_input,maxlen=100)\n",
        "rnn_model=keras.models.load_model('best-2rnn-model.h5')\n",
        "rnn_model.evaluate(test_seq,test_target)"
      ],
      "metadata": {
        "colab": {
          "base_uri": "https://localhost:8080/"
        },
        "id": "j4YaxX0tcvTt",
        "outputId": "42d75a75-312b-435b-85a1-403bbd1e4f76"
      },
      "execution_count": 19,
      "outputs": [
        {
          "output_type": "stream",
          "name": "stdout",
          "text": [
            "782/782 [==============================] - 5s 5ms/step - loss: 0.4380 - accuracy: 0.7955\n"
          ]
        },
        {
          "output_type": "execute_result",
          "data": {
            "text/plain": [
              "[0.4379592537879944, 0.795520007610321]"
            ]
          },
          "metadata": {},
          "execution_count": 19
        }
      ]
    },
    {
      "cell_type": "markdown",
      "source": [
        "### 마무리\n",
        "- `LSTM` : 타임스텝이 긴 데이터를 효과적으로 학습하기 위해 고안된 순환층. LSTM 셀은 은닉 상태 외에 셀 상태를 출력\n",
        "- `GRU`"
      ],
      "metadata": {
        "id": "DWJpiGXKdE7L"
      }
    }
  ]
}