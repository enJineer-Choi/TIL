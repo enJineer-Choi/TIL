{
  "nbformat": 4,
  "nbformat_minor": 0,
  "metadata": {
    "colab": {
      "provenance": []
    },
    "kernelspec": {
      "name": "python3",
      "display_name": "Python 3"
    },
    "language_info": {
      "name": "python"
    }
  },
  "cells": [
    {
      "cell_type": "markdown",
      "source": [
        "# Chapter 09 텍스트를 위한 인공 신경망\n",
        "- 텍스트와 시계열 데이터 같은 순차 데이터에 잘 맞는 순환 신경망의 개념과 구성 요소에 대해 배움\n",
        "- 케라스 API로 기본적인 순환 신경망에서 고급 순환 신경망을 만들어 영화 감상평을 분류\n",
        "- 순환 신경망에서 발생하는 문제점과 이를 극복하기 위한 해결책"
      ],
      "metadata": {
        "id": "R-BhBcQPJEFT"
      }
    },
    {
      "cell_type": "markdown",
      "source": [
        "## 9-1 순차 데이터와 순환 신경망\n",
        "- 순차 데이터의 특징을 알고 순환 신경망의 개념을 학습"
      ],
      "metadata": {
        "id": "rSLBrteiJEDS"
      }
    },
    {
      "cell_type": "markdown",
      "source": [
        "### 순차 데이터\n",
        "- Sequential data = text or tiem-series data 처럼 순서에 의미가 있는 데이터\n",
        "- Feedforward neural network : 데이터의 흐름이 앞으로만 전달되는 신경망"
      ],
      "metadata": {
        "id": "sd5LzyZ_J08q"
      }
    },
    {
      "cell_type": "markdown",
      "source": [
        "### Recurrent neural network (RNN)\n",
        "- timestep : 이전 샘플에 대한 기억을 가지고 다음 샘플을 처리"
      ],
      "metadata": {
        "id": "fXWxbQu3KMPU"
      }
    },
    {
      "cell_type": "markdown",
      "source": [
        "### 셀의 가중치와 입출력"
      ],
      "metadata": {
        "id": "RgQYkXSQKkd5"
      }
    },
    {
      "cell_type": "markdown",
      "source": [
        "### 마무리\n",
        "- `순차 데이터` : 텍스트나 시계열 데이터와 같이 순서에 의미가 있는 데이터. 대표적인 순차 데이터로는 글, 대화, 일자별 날씨, 일자별 판매 실적 등이 있음.\n",
        "- `순환 신경망` : 순차 데이터에 잘 맞는 인공 신경망의 한 종류. 순차 데이터를 처리하기 위해 고안된 순환층을 1개 이상 사용한 신경망을 순환 신경망이라고 함.\n",
        "- `셀` : 순환 신경망에서 순환층을 부르는 말.\n",
        "- `은닉 상태` : 순환 신경망에서의 셀의 출력을 부르는 말."
      ],
      "metadata": {
        "id": "aKCAfGa5K9Mr"
      }
    }
  ]
}