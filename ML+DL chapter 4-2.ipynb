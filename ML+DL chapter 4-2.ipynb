{
 "cells": [
  {
   "cell_type": "markdown",
   "id": "e693eca7-94e7-4d05-9912-1c94df9dcdc0",
   "metadata": {},
   "source": [
    "# Chapter 4 다양한 분류 알고리즘"
   ]
  },
  {
   "cell_type": "markdown",
   "id": "0b1d3133-f2d7-4023-8500-4a8347c5c0c8",
   "metadata": {},
   "source": [
    "학습목표 :  \n",
    "- 로지스틱 회귀, 확률적 경사 하강법과 같은 분류 알고리즘을 배움\n",
    "- 이진 분류와 다중 분류의 차이를 이해하고 클래스별 확률을 예측"
   ]
  },
  {
   "cell_type": "markdown",
   "id": "bdc31761-ae93-4e7a-9d6e-97ad5ad38e34",
   "metadata": {},
   "source": [
    "## 4-2 확률적 경사 하강법"
   ]
  },
  {
   "cell_type": "markdown",
   "id": "e70e290d-fdc8-416a-9b47-bca5cadae688",
   "metadata": {},
   "source": [
    "- 경사 하강법 알고리즘을 이해하고 대량의 데이터에서 분류 모델을 훈련하는 방법을 배움"
   ]
  },
  {
   "cell_type": "markdown",
   "id": "8c3b083d-9bb3-4a44-a5dc-c91921e20529",
   "metadata": {},
   "source": [
    "### 점진적인 학습\n",
    "점진적 학습 알고리즘 -> 확률적 경사 하강법(Stochastic Gradient Descent)"
   ]
  },
  {
   "cell_type": "markdown",
   "id": "d275c7a6-b039-443f-b34d-0659015c2dfc",
   "metadata": {},
   "source": [
    "#### 확률적 경사 하강법\n",
    "'확률적' = 무작위하게 or 랜덤하게"
   ]
  },
  {
   "cell_type": "markdown",
   "id": "07cee2ae-6753-42c6-96fe-6489d62151ae",
   "metadata": {},
   "source": [
    "- 확률적 경사 하강법 : 훈련세트에서 랜덤하게 하나의 샘플을 고르는 것\n",
    "- 에포크 (epoch) : 확률적 경사 하강법에서 훈련 세트를 한 번 모두 사용하는 과정. 일반적으로 경사 하강법은 수십, 수백 번 이상 에포크를 수행\n",
    "- 미니배치 경사 하강법 (minibatch gradient descent) : 여러개의 샘플을 사용해 경사 하강법을 수행하는 방식 \n",
    "- 배치 경사 하강법 (batch gradient descent) : 전체 샘플을 사용해 경사 하강법 수행"
   ]
  },
  {
   "cell_type": "markdown",
   "id": "96735d52-c6f6-47f1-8ae8-9da330dfaf17",
   "metadata": {},
   "source": [
    "#### 손실함수 (loss function)\n",
    "머신러닝 알고리즘 판단 기준. 작으면 작을 수록 좋다고 판단  \n",
    "미분 가능 해야함!"
   ]
  },
  {
   "cell_type": "markdown",
   "id": "500000a2-d319-4350-af8e-92b5f7530a34",
   "metadata": {},
   "source": [
    "#### 로지스틱 손실 함수(logistic loss function)\n",
    "- =이진 크로스엔트로피 손실함수 (binary cross-entropy loss function)이라고도 함\n",
    "- 다중분류도 비슷한 손실함수를 사용 cross-entropy loss function(크로스 엔트로피 손실함수)"
   ]
  },
  {
   "cell_type": "markdown",
   "id": "e6160c8b-8c15-461a-b713-f229f377d0ab",
   "metadata": {},
   "source": [
    "### SGDClassifier"
   ]
  },
  {
   "cell_type": "code",
   "execution_count": 2,
   "id": "bdb36c79-31b8-461d-a6a0-e70419451c6b",
   "metadata": {},
   "outputs": [],
   "source": [
    "import pandas as pd\n",
    "fish=pd.read_csv(\"https://bit.ly/fish_csv_data\")\n",
    "fish_input=fish[['Weight','Length','Diagonal','Height','Width']].to_numpy()\n",
    "fish_target=fish['Species'].to_numpy()"
   ]
  },
  {
   "cell_type": "code",
   "execution_count": 3,
   "id": "481c42db-a162-483d-ba03-283dbb3b6d0c",
   "metadata": {},
   "outputs": [],
   "source": [
    "from sklearn.model_selection import train_test_split\n",
    "train_input,test_input,train_target,test_target=train_test_split(fish_input,fish_target,random_state=42)"
   ]
  },
  {
   "cell_type": "code",
   "execution_count": 5,
   "id": "a26c2788-419f-4201-8936-d1c48ae09f41",
   "metadata": {},
   "outputs": [],
   "source": [
    "from sklearn.preprocessing import StandardScaler\n",
    "ss=StandardScaler()\n",
    "ss.fit(train_input)\n",
    "train_scaled=ss.transform(train_input)\n",
    "test_scaled=ss.transform(test_input)"
   ]
  },
  {
   "cell_type": "code",
   "execution_count": 6,
   "id": "c428c4cd-fa00-4c7b-a011-d1dd22cbc999",
   "metadata": {},
   "outputs": [],
   "source": [
    "from sklearn.linear_model import SGDClassifier"
   ]
  },
  {
   "cell_type": "code",
   "execution_count": 7,
   "id": "d370cc7c-6a00-4080-8c06-5dd0f64c8f7f",
   "metadata": {},
   "outputs": [
    {
     "name": "stdout",
     "output_type": "stream",
     "text": [
      "0.773109243697479\n",
      "0.775\n"
     ]
    },
    {
     "name": "stderr",
     "output_type": "stream",
     "text": [
      "/Users/seokjinchoi/opt/anaconda3/lib/python3.9/site-packages/sklearn/linear_model/_stochastic_gradient.py:574: ConvergenceWarning: Maximum number of iteration reached before convergence. Consider increasing max_iter to improve the fit.\n",
      "  warnings.warn(\"Maximum number of iteration reached before \"\n"
     ]
    }
   ],
   "source": [
    "sc=SGDClassifier(loss='log',max_iter=10,random_state=42)\n",
    "sc.fit(train_scaled,train_target)\n",
    "print(sc.score(train_scaled,train_target))\n",
    "print(sc.score(test_scaled,test_target))"
   ]
  },
  {
   "cell_type": "code",
   "execution_count": 9,
   "id": "ac74d5fe-f4d4-4f3f-b2c7-ed0472ede7f2",
   "metadata": {},
   "outputs": [
    {
     "name": "stdout",
     "output_type": "stream",
     "text": [
      "0.7815126050420168\n",
      "0.8\n"
     ]
    }
   ],
   "source": [
    "sc.partial_fit(train_scaled,train_target)\n",
    "print(sc.score(train_scaled,train_target))\n",
    "print(sc.score(test_scaled,test_target))"
   ]
  },
  {
   "cell_type": "code",
   "execution_count": 10,
   "id": "f0b019e3-4263-4324-a04f-1f8369744cd5",
   "metadata": {},
   "outputs": [],
   "source": [
    "import numpy as np\n",
    "sc=SGDClassifier(loss='log',random_state=42)\n",
    "train_score=[]\n",
    "test_score=[]\n",
    "classes=np.unique(train_target)"
   ]
  },
  {
   "cell_type": "code",
   "execution_count": 11,
   "id": "1f9b16ab-6175-4cd8-b68c-cb72a38184d2",
   "metadata": {},
   "outputs": [],
   "source": [
    "for _ in range(0,300):\n",
    "    sc.partial_fit(train_scaled,train_target,classes=classes)\n",
    "    train_score.append(sc.score(train_scaled,train_target))\n",
    "    test_score.append(sc.score(test_scaled,test_target))"
   ]
  },
  {
   "cell_type": "code",
   "execution_count": 12,
   "id": "bdd77c85-abed-4bb4-b53b-b1c1a7f0184a",
   "metadata": {},
   "outputs": [
    {
     "data": {
      "image/png": "[encoded data removed]",
      "text/plain": [
       "<Figure size 432x288 with 1 Axes>"
      ]
     },
     "metadata": {
      "needs_background": "light"
     },
     "output_type": "display_data"
    }
   ],
   "source": [
    "import matplotlib.pyplot as plt\n",
    "plt.plot(train_score)\n",
    "plt.plot(test_score)\n",
    "plt.xlabel('epoch')\n",
    "plt.ylabel('accuracy')\n",
    "plt.show()\n",
    "   "
   ]
  },
  {
   "cell_type": "code",
   "execution_count": 13,
   "id": "4feb6aa4-239d-496a-bd04-62083870b8cf",
   "metadata": {},
   "outputs": [
    {
     "name": "stdout",
     "output_type": "stream",
     "text": [
      "0.957983193277311\n",
      "0.925\n"
     ]
    }
   ],
   "source": [
    "sc=SGDClassifier(loss='log',max_iter=100,tol=None,random_state=42)\n",
    "sc.fit(train_scaled,train_target)\n",
    "print(sc.score(train_scaled,train_target))\n",
    "print(sc.score(test_scaled,test_target))"
   ]
  },
  {
   "cell_type": "code",
   "execution_count": null,
   "id": "e42adb87-6fa4-4964-8e31-134721e96832",
   "metadata": {},
   "outputs": [],
   "source": [
    "sc="
   ]
  }
 ],
 "metadata": {
  "kernelspec": {
   "display_name": "Python 3 (ipykernel)",
   "language": "python",
   "name": "python3"
  },
  "language_info": {
   "codemirror_mode": {
    "name": "ipython",
    "version": 3
   },
   "file_extension": ".py",
   "mimetype": "text/x-python",
   "name": "python",
   "nbconvert_exporter": "python",
   "pygments_lexer": "ipython3",
   "version": "3.9.7"
  }
 },
 "nbformat": 4,
 "nbformat_minor": 5
}
