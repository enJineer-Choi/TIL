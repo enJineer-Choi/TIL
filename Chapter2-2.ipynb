{
 "cells": [
  {
   "cell_type": "markdown",
   "id": "c8557443-e46c-447d-8a53-c1d144f925c5",
   "metadata": {
    "tags": []
   },
   "source": [
    "# Chapter 2. 데이터 다루기"
   ]
  },
  {
   "cell_type": "markdown",
   "id": "60375fe6-52db-4e0d-83bf-1b4560ddb658",
   "metadata": {},
   "source": [
    "## 2-2 데이터 전처리"
   ]
  },
  {
   "cell_type": "markdown",
   "id": "08171383-f4e1-40ca-b690-e811676e0ba4",
   "metadata": {},
   "source": [
    "- 데이터를 사용하기 전에 데이터 전처리 과정을 거치며, 전처리 과정을 거친 데이터로 훈련했을 때의 차이를 알고 표준점수로 특성의 스케일을 변환하는 방법을 배움"
   ]
  },
  {
   "cell_type": "markdown",
   "id": "feb64588-6b33-4424-b7c2-48b33bae4270",
   "metadata": {},
   "source": [
    "### 넘파이로 데이터 준비하기"
   ]
  },
  {
   "cell_type": "code",
   "execution_count": 1,
   "id": "20b36d4b-5c98-4dd9-b59c-4a0465662dec",
   "metadata": {
    "tags": []
   },
   "outputs": [],
   "source": [
    "fish_length = [25.4, 26.3, 26.5, 29.0, 29.0, 29.7, 29.7, 30.0, 30.0, 30.7, 31.0, 31.0, \n",
    "                31.5, 32.0, 32.0, 32.0, 33.0, 33.0, 33.5, 33.5, 34.0, 34.0, 34.5, 35.0, \n",
    "                35.0, 35.0, 35.0, 36.0, 36.0, 37.0, 38.5, 38.5, 39.5, 41.0, 41.0, 9.8, \n",
    "                10.5, 10.6, 11.0, 11.2, 11.3, 11.8, 11.8, 12.0, 12.2, 12.4, 13.0, 14.3, 15.0]\n",
    "fish_weight = [242.0, 290.0, 340.0, 363.0, 430.0, 450.0, 500.0, 390.0, 450.0, 500.0, 475.0, 500.0, \n",
    "                500.0, 340.0, 600.0, 600.0, 700.0, 700.0, 610.0, 650.0, 575.0, 685.0, 620.0, 680.0, \n",
    "                700.0, 725.0, 720.0, 714.0, 850.0, 1000.0, 920.0, 955.0, 925.0, 975.0, 950.0, 6.7, \n",
    "                7.5, 7.0, 9.7, 9.8, 8.7, 10.0, 9.9, 9.8, 12.2, 13.4, 12.2, 19.7, 19.9]"
   ]
  },
  {
   "cell_type": "code",
   "execution_count": 2,
   "id": "e5e75dda-642e-4147-958f-8f6cf8812666",
   "metadata": {},
   "outputs": [],
   "source": [
    "import numpy as np"
   ]
  },
  {
   "cell_type": "code",
   "execution_count": 3,
   "id": "65b0603c-5a06-47aa-8e41-5b6ae56587dc",
   "metadata": {},
   "outputs": [],
   "source": [
    "fish_data=np.column_stack((fish_length,fish_weight))"
   ]
  },
  {
   "cell_type": "code",
   "execution_count": 5,
   "id": "05d39825-5771-4cba-8fcd-ad11ee395e78",
   "metadata": {},
   "outputs": [],
   "source": [
    "fish_target=np.concatenate((np.ones(35),np.zeros(14)))"
   ]
  },
  {
   "cell_type": "markdown",
   "id": "4519cdcd-fa01-4388-aec0-6de377853b03",
   "metadata": {},
   "source": [
    "### 사이킷런으로 훈련 세트와 테스트 세트 나누기"
   ]
  },
  {
   "cell_type": "code",
   "execution_count": 6,
   "id": "6e5f830b-00c0-4eec-8f78-5e271cee373e",
   "metadata": {},
   "outputs": [],
   "source": [
    "from sklearn.model_selection import train_test_split"
   ]
  },
  {
   "cell_type": "code",
   "execution_count": 9,
   "id": "cf443176-4e7d-4486-9cc4-f3e070029320",
   "metadata": {},
   "outputs": [],
   "source": [
    "train_input,test_input,train_target,test_target=train_test_split(fish_data,fish_target,stratify=fish_target,random_state=42)"
   ]
  },
  {
   "cell_type": "markdown",
   "id": "220e61b0-290f-430f-9a86-5a0170307d9c",
   "metadata": {},
   "source": [
    "### 수상한 데이터"
   ]
  },
  {
   "cell_type": "code",
   "execution_count": 11,
   "id": "6323e8a1-b4ed-464b-b9ec-0d8091e3dfde",
   "metadata": {},
   "outputs": [
    {
     "data": {
      "text/plain": [
       "1.0"
      ]
     },
     "execution_count": 11,
     "metadata": {},
     "output_type": "execute_result"
    }
   ],
   "source": [
    "from sklearn.neighbors import KNeighborsClassifier\n",
    "kn=KNeighborsClassifier()\n",
    "kn.fit(train_input,train_target)\n",
    "kn.score(test_input,test_target)"
   ]
  },
  {
   "cell_type": "code",
   "execution_count": 12,
   "id": "11c25b0b-55dd-44e0-8616-7a4101362d09",
   "metadata": {},
   "outputs": [
    {
     "data": {
      "image/png": "[encoded data removed]",
      "text/plain": [
       "<Figure size 432x288 with 1 Axes>"
      ]
     },
     "metadata": {
      "needs_background": "light"
     },
     "output_type": "display_data"
    }
   ],
   "source": [
    "import matplotlib.pyplot as plt\n",
    "plt.scatter(train_input[:,0],train_input[:,1])\n",
    "plt.scatter(25,150,marker='^')\n",
    "plt.xlabel('length')\n",
    "plt.ylabel('weight')\n",
    "plt.show()"
   ]
  },
  {
   "cell_type": "markdown",
   "id": "0e035dcb-150a-44cb-bc13-3283e7c719fa",
   "metadata": {},
   "source": [
    "### 기준을 맞춰라"
   ]
  },
  {
   "cell_type": "markdown",
   "id": "de4c07e7-b7fd-4e4d-a71b-b56f16cd1b27",
   "metadata": {},
   "source": [
    "- 두 특성의 값이 놓인 범위가 다른 경우 'scale'이 다르다고도 표현함\n",
    "- 따라서 특성값을 일정한 기준으로 맞춰 주어야 함.-> 이를 데이터 전처리(data preprocessing)이라 함 \n",
    "- 가장 많이 사용하는 방법 standard score (표준점수) : 표준화"
   ]
  },
  {
   "cell_type": "code",
   "execution_count": 13,
   "id": "3ca4153f-f2d7-4deb-89d4-9e1f9cfa383e",
   "metadata": {},
   "outputs": [],
   "source": [
    "mean=np.mean(train_input,axis=0)\n",
    "std=np.std(train_input,axis=0)"
   ]
  },
  {
   "cell_type": "code",
   "execution_count": 14,
   "id": "14bea6e3-aec2-4739-83af-fe4ff1f3a5f4",
   "metadata": {},
   "outputs": [],
   "source": [
    "train_scaled=(train_input-mean)/std"
   ]
  },
  {
   "cell_type": "markdown",
   "id": "0df96e11-de77-467a-9ae1-62323e35c7d9",
   "metadata": {},
   "source": [
    "### 전처리 데이터로 모델 훈련하기"
   ]
  },
  {
   "cell_type": "code",
   "execution_count": 15,
   "id": "a0f1d5bb-706b-4f93-a82d-7c7a4aa20040",
   "metadata": {},
   "outputs": [
    {
     "data": {
      "image/png": "[encoded data removed]",
      "text/plain": [
       "<Figure size 432x288 with 1 Axes>"
      ]
     },
     "metadata": {
      "needs_background": "light"
     },
     "output_type": "display_data"
    }
   ],
   "source": [
    "plt.scatter(train_scaled[:,0],train_scaled[:,1])\n",
    "plt.scatter(25,150,marker='^')\n",
    "plt.xlabel('length')\n",
    "plt.ylabel('weight')\n",
    "plt.show()"
   ]
  },
  {
   "cell_type": "markdown",
   "id": "c48a9db4-266f-45d4-a3c4-f2a648315d7f",
   "metadata": {},
   "source": [
    "- 훈련 세트의 기준으로 테스트 세트를 변환해야 같은 스케일로 산점도를 그릴 수 있음!"
   ]
  },
  {
   "cell_type": "code",
   "execution_count": 17,
   "id": "ad588f4f-768d-494a-9ed1-473ecfa84187",
   "metadata": {},
   "outputs": [
    {
     "data": {
      "image/png": "[encoded data removed]",
      "text/plain": [
       "<Figure size 432x288 with 1 Axes>"
      ]
     },
     "metadata": {
      "needs_background": "light"
     },
     "output_type": "display_data"
    }
   ],
   "source": [
    "new=([25,150]-mean)/std\n",
    "plt.scatter(train_scaled[:,0],train_scaled[:,1])\n",
    "plt.scatter(new[0],new[1],marker='^')\n",
    "plt.xlabel('length')\n",
    "plt.ylabel('weight')\n",
    "plt.show()"
   ]
  },
  {
   "cell_type": "code",
   "execution_count": 21,
   "id": "98f05574-2f92-4b90-b217-526e37d4a66b",
   "metadata": {},
   "outputs": [
    {
     "data": {
      "text/plain": [
       "1.0"
      ]
     },
     "execution_count": 21,
     "metadata": {},
     "output_type": "execute_result"
    }
   ],
   "source": [
    "kn.fit(train_scaled,train_target)\n",
    "test_scaled=(test_input-mean)/std\n",
    "kn.score(test_scaled,test_target)"
   ]
  },
  {
   "cell_type": "code",
   "execution_count": 22,
   "id": "4d24d096-0290-4449-b237-7aae099bb003",
   "metadata": {},
   "outputs": [
    {
     "data": {
      "image/png": "[encoded data removed]",
      "text/plain": [
       "<Figure size 432x288 with 1 Axes>"
      ]
     },
     "metadata": {
      "needs_background": "light"
     },
     "output_type": "display_data"
    }
   ],
   "source": [
    "distances,indexes=kn.kneighbors([new])\n",
    "plt.scatter(train_scaled[:,0],train_scaled[:,1])\n",
    "plt.scatter(new[0],new[1],marker='^')\n",
    "plt.scatter(train_scaled[indexes,0],train_scaled[indexes,1],marker='D')\n",
    "plt.xlabel('length')\n",
    "plt.ylabel('weight')\n",
    "plt.show()"
   ]
  },
  {
   "cell_type": "markdown",
   "id": "8f714e17-de03-4d24-b3e3-582cd50ba18d",
   "metadata": {},
   "source": [
    "### 정리\n",
    "- `데이터 전처리` : 머신러닝 모델에 훈련 데이터를 주입하기 전에 '가공하는 단계' \n",
    "- `표준점수` : 훈련 세트의 스케일을 바꾸는 대표적인 방법 , 훈련 세트의 평균과 표준편차로 테스트 세트를 바꿔야 함!"
   ]
  },
  {
   "cell_type": "code",
   "execution_count": null,
   "id": "d5f9d20c-a0e5-4baa-9c42-d4bb2178d71f",
   "metadata": {},
   "outputs": [],
   "source": []
  }
 ],
 "metadata": {
  "kernelspec": {
   "display_name": "Python 3 (ipykernel)",
   "language": "python",
   "name": "python3"
  },
  "language_info": {
   "codemirror_mode": {
    "name": "ipython",
    "version": 3
   },
   "file_extension": ".py",
   "mimetype": "text/x-python",
   "name": "python",
   "nbconvert_exporter": "python",
   "pygments_lexer": "ipython3",
   "version": "3.9.7"
  }
 },
 "nbformat": 4,
 "nbformat_minor": 5
}
