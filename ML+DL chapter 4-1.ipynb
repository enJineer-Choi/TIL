{
 "cells": [
  {
   "cell_type": "markdown",
   "id": "c179f870-9656-4ddd-8361-659d65590a14",
   "metadata": {},
   "source": [
    "# Chapter 4 다양한 분류 알고리즘"
   ]
  },
  {
   "cell_type": "markdown",
   "id": "fa562950-c35b-42f0-9dc8-fd8dc05ac40b",
   "metadata": {},
   "source": [
    "학습목표 :  \n",
    "- 로지스틱 회귀, 확률적 경사 하강법과 같은 분류 알고리즘을 배움\n",
    "- 이진 분류와 다중 분류의 차이를 이해하고 클래스별 확률을 예측"
   ]
  },
  {
   "cell_type": "markdown",
   "id": "2242e9f9-42f1-4dd1-a184-ac514d9e9797",
   "metadata": {},
   "source": [
    "## 4-1 로지스틱 회귀"
   ]
  },
  {
   "cell_type": "markdown",
   "id": "68a7660a-1a3e-4506-873d-953dc98b418a",
   "metadata": {},
   "source": [
    "- 로지스틱 회귀 알고리즘을 배우고 이진 분류 문제에서 클래스 확률을 예측"
   ]
  },
  {
   "cell_type": "markdown",
   "id": "94e818e6-2314-4ce5-ac89-352daca2fb37",
   "metadata": {},
   "source": [
    "### 럭키백의 확률 구하기"
   ]
  },
  {
   "cell_type": "markdown",
   "id": "dcb4ce81-4b1c-43dc-97eb-8db962a01678",
   "metadata": {},
   "source": [
    "#### 데이터 준비하기"
   ]
  },
  {
   "cell_type": "code",
   "execution_count": 1,
   "id": "e1e56b1a-b474-44a2-9c87-664727811104",
   "metadata": {},
   "outputs": [
    {
     "data": {
      "text/html": [
       "<div>\n",
       "<style scoped>\n",
       "    .dataframe tbody tr th:only-of-type {\n",
       "        vertical-align: middle;\n",
       "    }\n",
       "\n",
       "    .dataframe tbody tr th {\n",
       "        vertical-align: top;\n",
       "    }\n",
       "\n",
       "    .dataframe thead th {\n",
       "        text-align: right;\n",
       "    }\n",
       "</style>\n",
       "<table border=\"1\" class=\"dataframe\">\n",
       "  <thead>\n",
       "    <tr style=\"text-align: right;\">\n",
       "      <th></th>\n",
       "      <th>Species</th>\n",
       "      <th>Weight</th>\n",
       "      <th>Length</th>\n",
       "      <th>Diagonal</th>\n",
       "      <th>Height</th>\n",
       "      <th>Width</th>\n",
       "    </tr>\n",
       "  </thead>\n",
       "  <tbody>\n",
       "    <tr>\n",
       "      <th>0</th>\n",
       "      <td>Bream</td>\n",
       "      <td>242.0</td>\n",
       "      <td>25.4</td>\n",
       "      <td>30.0</td>\n",
       "      <td>11.5200</td>\n",
       "      <td>4.0200</td>\n",
       "    </tr>\n",
       "    <tr>\n",
       "      <th>1</th>\n",
       "      <td>Bream</td>\n",
       "      <td>290.0</td>\n",
       "      <td>26.3</td>\n",
       "      <td>31.2</td>\n",
       "      <td>12.4800</td>\n",
       "      <td>4.3056</td>\n",
       "    </tr>\n",
       "    <tr>\n",
       "      <th>2</th>\n",
       "      <td>Bream</td>\n",
       "      <td>340.0</td>\n",
       "      <td>26.5</td>\n",
       "      <td>31.1</td>\n",
       "      <td>12.3778</td>\n",
       "      <td>4.6961</td>\n",
       "    </tr>\n",
       "    <tr>\n",
       "      <th>3</th>\n",
       "      <td>Bream</td>\n",
       "      <td>363.0</td>\n",
       "      <td>29.0</td>\n",
       "      <td>33.5</td>\n",
       "      <td>12.7300</td>\n",
       "      <td>4.4555</td>\n",
       "    </tr>\n",
       "    <tr>\n",
       "      <th>4</th>\n",
       "      <td>Bream</td>\n",
       "      <td>430.0</td>\n",
       "      <td>29.0</td>\n",
       "      <td>34.0</td>\n",
       "      <td>12.4440</td>\n",
       "      <td>5.1340</td>\n",
       "    </tr>\n",
       "  </tbody>\n",
       "</table>\n",
       "</div>"
      ],
      "text/plain": [
       "  Species  Weight  Length  Diagonal   Height   Width\n",
       "0   Bream   242.0    25.4      30.0  11.5200  4.0200\n",
       "1   Bream   290.0    26.3      31.2  12.4800  4.3056\n",
       "2   Bream   340.0    26.5      31.1  12.3778  4.6961\n",
       "3   Bream   363.0    29.0      33.5  12.7300  4.4555\n",
       "4   Bream   430.0    29.0      34.0  12.4440  5.1340"
      ]
     },
     "execution_count": 1,
     "metadata": {},
     "output_type": "execute_result"
    }
   ],
   "source": [
    "import pandas as pd\n",
    "fish=pd.read_csv('https://bit.ly/fish_csv_data')\n",
    "fish.head()"
   ]
  },
  {
   "cell_type": "code",
   "execution_count": 2,
   "id": "77c535e3-8073-41f0-b56b-273fd099c591",
   "metadata": {},
   "outputs": [
    {
     "name": "stdout",
     "output_type": "stream",
     "text": [
      "['Bream' 'Roach' 'Whitefish' 'Parkki' 'Perch' 'Pike' 'Smelt']\n"
     ]
    }
   ],
   "source": [
    "print(pd.unique(fish['Species']))"
   ]
  },
  {
   "cell_type": "code",
   "execution_count": 3,
   "id": "587df966-f885-4b2c-a638-6f88a42f4756",
   "metadata": {},
   "outputs": [],
   "source": [
    "fish_input=fish[['Weight','Length','Diagonal','Height','Width']].to_numpy()"
   ]
  },
  {
   "cell_type": "code",
   "execution_count": 4,
   "id": "d2127699-6b51-4941-b38b-3cade4707a31",
   "metadata": {},
   "outputs": [],
   "source": [
    "fish_target=fish['Species'].to_numpy()"
   ]
  },
  {
   "cell_type": "code",
   "execution_count": 5,
   "id": "3078fda3-6066-48f8-8bd9-06c8d9bdf7ab",
   "metadata": {},
   "outputs": [],
   "source": [
    "from sklearn.model_selection import train_test_split\n",
    "train_input,test_input,train_target,test_target=train_test_split(fish_input,fish_target,random_state=42)"
   ]
  },
  {
   "cell_type": "code",
   "execution_count": 10,
   "id": "994ed250-d8ab-40e7-bacf-d76b11a36cc9",
   "metadata": {},
   "outputs": [],
   "source": [
    "from sklearn.preprocessing import StandardScaler\n",
    "ss=StandardScaler()\n",
    "ss.fit(train_input)\n",
    "train_scaled=ss.transform(train_input)\n",
    "test_scaled=ss.transform(test_input)"
   ]
  },
  {
   "cell_type": "markdown",
   "id": "861d0ae1-4023-4e5d-ae3c-e8cfb8a4681b",
   "metadata": {},
   "source": [
    "#### k-최근접 이웃 분류기의 확률 예측"
   ]
  },
  {
   "cell_type": "code",
   "execution_count": 11,
   "id": "a1294dc1-ee80-4a70-a103-0f38063369f8",
   "metadata": {},
   "outputs": [
    {
     "name": "stdout",
     "output_type": "stream",
     "text": [
      "0.8907563025210085\n",
      "0.85\n"
     ]
    }
   ],
   "source": [
    "from sklearn.neighbors import KNeighborsClassifier\n",
    "kn=KNeighborsClassifier(n_neighbors=3)\n",
    "kn.fit(train_scaled,train_target)\n",
    "print(kn.score(train_scaled,train_target))\n",
    "print(kn.score(test_scaled,test_target))"
   ]
  },
  {
   "cell_type": "markdown",
   "id": "b0acfa9b-8bcc-4a8e-ae0c-b00cbf65de39",
   "metadata": {},
   "source": [
    "multiclass classification (다중분류) : 타깃 데이터에 2개 이상의 클래스가 포함된 문제"
   ]
  },
  {
   "cell_type": "code",
   "execution_count": 17,
   "id": "3c17bfc8-5694-4139-909c-edf8ed3ffa50",
   "metadata": {},
   "outputs": [
    {
     "name": "stdout",
     "output_type": "stream",
     "text": [
      "['Perch' 'Smelt' 'Pike' 'Perch' 'Perch']\n"
     ]
    }
   ],
   "source": [
    "print(kn.predict(test_scaled[:5]))"
   ]
  },
  {
   "cell_type": "code",
   "execution_count": 18,
   "id": "9ce58a2e-9506-4f6c-b154-7a8ebbd0d26a",
   "metadata": {},
   "outputs": [
    {
     "name": "stdout",
     "output_type": "stream",
     "text": [
      "[[0.     0.     1.     0.     0.     0.     0.    ]\n",
      " [0.     0.     0.     0.     0.     1.     0.    ]\n",
      " [0.     0.     0.     1.     0.     0.     0.    ]\n",
      " [0.     0.     0.6667 0.     0.3333 0.     0.    ]\n",
      " [0.     0.     0.6667 0.     0.3333 0.     0.    ]]\n"
     ]
    }
   ],
   "source": [
    "import numpy as np\n",
    "proba=kn.predict_proba(test_scaled[:5])\n",
    "print(np.round(proba,decimals=4))"
   ]
  },
  {
   "cell_type": "code",
   "execution_count": 19,
   "id": "347ef3f0-f404-40e8-970b-f379ef42af93",
   "metadata": {},
   "outputs": [
    {
     "name": "stdout",
     "output_type": "stream",
     "text": [
      "[['Roach' 'Perch' 'Perch']]\n"
     ]
    }
   ],
   "source": [
    "distances,indexes=kn.kneighbors(test_scaled[3:4])\n",
    "print(train_target[indexes])"
   ]
  },
  {
   "cell_type": "markdown",
   "id": "83cc715a-fb02-4ca3-adad-472cd14ab75e",
   "metadata": {},
   "source": [
    "### 로지스틱 회귀 (logistic regression)"
   ]
  },
  {
   "cell_type": "markdown",
   "id": "3e4c5557-b5ca-423b-b601-2ce12a375251",
   "metadata": {},
   "source": [
    "로지스틱 회귀는 이름은 회귀이지만 분류 모델 -> sigmoid function (logistic function) "
   ]
  },
  {
   "cell_type": "code",
   "execution_count": 20,
   "id": "8a4dce89-a8d2-40b9-8df0-2cac2d83819a",
   "metadata": {},
   "outputs": [
    {
     "data": {
      "image/png": "[encoded data removed]",
      "text/plain": [
       "<Figure size 432x288 with 1 Axes>"
      ]
     },
     "metadata": {
      "needs_background": "light"
     },
     "output_type": "display_data"
    }
   ],
   "source": [
    "import numpy as np\n",
    "import matplotlib.pyplot as plt\n",
    "z=np.arange(-5,5,0.1)\n",
    "phi=1/(1+np.exp(-z))\n",
    "plt.plot(z,phi)\n",
    "plt.xlabel('z')\n",
    "plt.ylabel('phi')\n",
    "plt.show()"
   ]
  },
  {
   "cell_type": "markdown",
   "id": "8fcd828e-5891-4f9a-913f-f291f8aa886f",
   "metadata": {},
   "source": [
    "#### 로지스틱 회귀로 이진 분류 수행하기"
   ]
  },
  {
   "cell_type": "code",
   "execution_count": 22,
   "id": "ffe789bb-89f2-4963-9a47-30d46dc98984",
   "metadata": {},
   "outputs": [
    {
     "name": "stdout",
     "output_type": "stream",
     "text": [
      "[[-0.4037798  -0.57620209 -0.66280298 -1.01290277 -0.73168947]] [-2.16155132]\n"
     ]
    }
   ],
   "source": [
    "bream_smelt_indexes=(train_target=='Bream')|(train_target=='Smelt')\n",
    "train_bream_smelt=train_scaled[bream_smelt_indexes]\n",
    "target_bream_smelt=train_target[bream_smelt_indexes]\n",
    "from sklearn.linear_model import LogisticRegression\n",
    "lr=LogisticRegression()\n",
    "lr.fit(train_bream_smelt,target_bream_smelt)\n",
    "print(lr.coef_,lr.intercept_)"
   ]
  },
  {
   "cell_type": "markdown",
   "id": "01450262-07bf-40e9-b721-bb081aa25a48",
   "metadata": {},
   "source": [
    "$z=-0.404*(Weight)-0.576*(length)-0.663*(Diagonal)-1.013*(Height)-0.732*(Width)-2.161$"
   ]
  },
  {
   "cell_type": "markdown",
   "id": "bf0c1e83-9fb3-4082-94d4-1405f812bd3e",
   "metadata": {},
   "source": [
    "-> 로지스틱 회귀모델이 학습한 방정식"
   ]
  },
  {
   "cell_type": "code",
   "execution_count": 23,
   "id": "6524684a-62a3-4f60-bba9-3652dce1e3db",
   "metadata": {},
   "outputs": [
    {
     "name": "stdout",
     "output_type": "stream",
     "text": [
      "[-6.02927744  3.57123907 -5.26568906 -4.24321775 -6.0607117 ]\n"
     ]
    }
   ],
   "source": [
    "decisions=lr.decision_function(train_bream_smelt[:5])\n",
    "print(decisions)"
   ]
  },
  {
   "cell_type": "code",
   "execution_count": 24,
   "id": "8131f622-151a-4faf-a653-8115e1e0081c",
   "metadata": {},
   "outputs": [
    {
     "name": "stdout",
     "output_type": "stream",
     "text": [
      "[0.00240145 0.97264817 0.00513928 0.01415798 0.00232731]\n"
     ]
    }
   ],
   "source": [
    "#decisions 배열의 값을 확률로 변환\n",
    "from scipy.special import expit\n",
    "print(expit(decisions))"
   ]
  },
  {
   "cell_type": "markdown",
   "id": "ce5ae93f-5bc0-47d8-afdb-c1e3e1c18d35",
   "metadata": {},
   "source": [
    "decision_function() method는 양성 클래스에 대한 z값을 반환"
   ]
  },
  {
   "cell_type": "markdown",
   "id": "bab11ed3-4759-4160-bfb1-f98fb5c31482",
   "metadata": {},
   "source": [
    "#### 로지스틱 회귀로 다중분류 수행하기"
   ]
  },
  {
   "cell_type": "code",
   "execution_count": 25,
   "id": "6637a5c3-8372-4d5b-b046-e17594420b45",
   "metadata": {},
   "outputs": [
    {
     "name": "stdout",
     "output_type": "stream",
     "text": [
      "0.9327731092436975\n",
      "0.925\n"
     ]
    }
   ],
   "source": [
    "lr=LogisticRegression(C=20,max_iter=1000)\n",
    "lr.fit(train_scaled,train_target)\n",
    "print(lr.score(train_scaled,train_target))\n",
    "print(lr.score(test_scaled,test_target))"
   ]
  },
  {
   "cell_type": "code",
   "execution_count": 26,
   "id": "25061beb-bb2c-4132-9693-458923489973",
   "metadata": {},
   "outputs": [
    {
     "name": "stdout",
     "output_type": "stream",
     "text": [
      "[[0.    0.014 0.841 0.    0.136 0.007 0.003]\n",
      " [0.    0.003 0.044 0.    0.007 0.946 0.   ]\n",
      " [0.    0.    0.034 0.935 0.015 0.016 0.   ]\n",
      " [0.011 0.034 0.306 0.007 0.567 0.    0.076]\n",
      " [0.    0.    0.904 0.002 0.089 0.002 0.001]]\n"
     ]
    }
   ],
   "source": [
    "proba=lr.predict_proba(test_scaled[:5])\n",
    "print(np.round(proba,decimals=3))"
   ]
  },
  {
   "cell_type": "markdown",
   "id": "565fa365-b4cc-4a28-90e3-6a97f8be38a1",
   "metadata": {},
   "source": [
    "- softmax function(소프트맥스 함수) : 여러 개의 선형 방정식의 출력값을 0~1 사이로 압축하고 전체 합이 1이 되도록 만듦. 지수함수를 사용하기 때문에 정규화된 지수함수라고도 부름  \n",
    "      -> 시그모이드, 소프트맥스 => 신경망에 사용"
   ]
  },
  {
   "cell_type": "code",
   "execution_count": 29,
   "id": "831e786b-9cc7-4b73-9f60-e0146227f787",
   "metadata": {},
   "outputs": [
    {
     "name": "stdout",
     "output_type": "stream",
     "text": [
      "[[ -6.5    1.03   5.16  -2.73   3.34   0.33  -0.63]\n",
      " [-10.86   1.93   4.77  -2.4    2.98   7.84  -4.26]\n",
      " [ -4.34  -6.23   3.17   6.49   2.36   2.42  -3.87]\n",
      " [ -0.68   0.45   2.65  -1.19   3.26  -5.75   1.26]\n",
      " [ -6.4   -1.99   5.82  -0.11   3.5   -0.11  -0.71]]\n"
     ]
    }
   ],
   "source": [
    "decision=lr.decision_function(test_scaled[:5])\n",
    "print(np.round(decision,decimals=2))"
   ]
  },
  {
   "cell_type": "code",
   "execution_count": 31,
   "id": "a94be42d-327c-4d9b-a614-6b05c98c8f69",
   "metadata": {},
   "outputs": [
    {
     "name": "stdout",
     "output_type": "stream",
     "text": [
      "[[0.    0.014 0.841 0.    0.136 0.007 0.003]\n",
      " [0.    0.003 0.044 0.    0.007 0.946 0.   ]\n",
      " [0.    0.    0.034 0.935 0.015 0.016 0.   ]\n",
      " [0.011 0.034 0.306 0.007 0.567 0.    0.076]\n",
      " [0.    0.    0.904 0.002 0.089 0.002 0.001]]\n"
     ]
    }
   ],
   "source": [
    "from scipy.special import softmax\n",
    "proba=softmax(decision,axis=1)\n",
    "print(np.round(proba,decimals=3))"
   ]
  },
  {
   "cell_type": "markdown",
   "id": "60cba532-200e-448c-90f8-a55f24390e8d",
   "metadata": {},
   "source": [
    "### 마무리\n",
    "- `로지스틱 회귀` : 선형 방정식을 사용한 분류 알고리즘. 선형 회귀와 달리 시그모이드 함수나 소프트맥스 함수를 사용하여 클래스 확률을 출력\n",
    "- `다중 분류` : 타깃 클래스가 2개 이상인 분류 문제. 로지스틱 회귀는 다중 분류를 위해 소프트맥스 함수를 사용하여 클래스를 예측\n",
    "- `시그모이드 함수` : 선형 방정식의 출력을 0과 1 사이의 값으로 압축하며 이진 분류를 위해 사용\n",
    "- `소프트맥스 함수` : 다중 분류에서 여러 선형 방정식의 출력 결과를 정규화하여 합이 1이 되도록 만듦"
   ]
  },
  {
   "cell_type": "code",
   "execution_count": null,
   "id": "4372f711-cc45-4305-8f11-b59514662908",
   "metadata": {},
   "outputs": [],
   "source": []
  }
 ],
 "metadata": {
  "kernelspec": {
   "display_name": "Python 3 (ipykernel)",
   "language": "python",
   "name": "python3"
  },
  "language_info": {
   "codemirror_mode": {
    "name": "ipython",
    "version": 3
   },
   "file_extension": ".py",
   "mimetype": "text/x-python",
   "name": "python",
   "nbconvert_exporter": "python",
   "pygments_lexer": "ipython3",
   "version": "3.9.7"
  }
 },
 "nbformat": 4,
 "nbformat_minor": 5
}
