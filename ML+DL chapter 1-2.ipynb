{
 "cells": [
  {
   "cell_type": "markdown",
   "id": "dc2e74e5-6571-419a-9aa4-772f712e5b25",
   "metadata": {
    "tags": []
   },
   "source": [
    "# Chapter 1.첫 머신러닝"
   ]
  },
  {
   "cell_type": "markdown",
   "id": "502a1ea0-dee6-43b4-904a-0ba2709a2fec",
   "metadata": {
    "tags": []
   },
   "source": [
    "## 1-2 마크다운 문법"
   ]
  },
  {
   "cell_type": "markdown",
   "id": "d3e40bbc-ab41-45a7-99fa-14a28d3fb887",
   "metadata": {},
   "source": [
    "- #의 개수로 제목 크기 변경\n",
    "- \"\\**\" : **굵은 글씨** \n",
    "- \"*\" or \"_\" : *기울임*\n",
    "- \"\\~~\\\" : ~~취소선~~\n",
    "- \"\\`\" : `코드형 서체`\n",
    "- [링크](주소) "
   ]
  }
 ],
 "metadata": {
  "kernelspec": {
   "display_name": "Python 3 (ipykernel)",
   "language": "python",
   "name": "python3"
  },
  "language_info": {
   "codemirror_mode": {
    "name": "ipython",
    "version": 3
   },
   "file_extension": ".py",
   "mimetype": "text/x-python",
   "name": "python",
   "nbconvert_exporter": "python",
   "pygments_lexer": "ipython3",
   "version": "3.9.7"
  }
 },
 "nbformat": 4,
 "nbformat_minor": 5
}
