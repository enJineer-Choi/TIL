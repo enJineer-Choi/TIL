{
 "cells": [
  {
   "cell_type": "markdown",
   "id": "15b8aeb0-d1c5-4915-8ff5-9da005d4c6a5",
   "metadata": {},
   "source": [
    "# Chapter 08 이미지를 위한 인공 신경망\n",
    "- 이미지 분류 문제에 뛰어난 성능을 발휘하는 합성곱 신경망의 개념과 구성요소에 대해 배움\n",
    "- 케라스 API로 합성곱 신경망을 만들어 패션 MNIST 데이터에서 성능을 평가해 봄\n",
    "- 합성곱 층의 필터와 활성화 출력을 시각화하여 합송곱 신경망이 학습한 내용을 고찰"
   ]
  },
  {
   "cell_type": "markdown",
   "id": "b62afc7a-f95e-40c7-b98a-176f9a202f38",
   "metadata": {},
   "source": [
    "## 8-1 합성곱 신경망의 구성요소\n",
    "- 합성곱 신경망을 구성하는 기본 개념과 동작 원리를 배우고 간단한 합성곱, 풀링 계산 방법을 익힘"
   ]
  },
  {
   "cell_type": "markdown",
   "id": "3dd6c33b-588d-40b8-8799-cf091383c626",
   "metadata": {},
   "source": [
    "### Convolution Neural Network (CNN)\n",
    "- `합성곱` : 밀집층과 비슷하게 입력과 가중치를 곱하고 절편을 더하는 선형 계산. 입력 전체가 아니라 일부만을 사용하여 선형 계산 수행\n",
    "- `합성곱 층의 **필터**` : 밀집층의 뉴런에 해당. 필터의 가중치와 절편을 커널이라고 부름. 커널의 깊이는 입력의 깊이와 같음\n",
    "- `특성 맵` : 합성곱 층이나 풀링 층의 출력 배열을 의미. 필터 하나가 특성 맵을 만듬.\n",
    "- `패딩` : 합성곱 층의 입력 위주에 추가한 0으로 채워진 픽셀. 패딩을 사용하지 않는 것을 밸리드 패딩이라 함. 합성곱 층의 출력 크기를 입력과 동일하게 만들기 위해 입력에 패딩을 추가하는 것을 세임 패딩\n",
    "- `스트라이드` : 합성곱 층에서 필터가 입력 위를 이동하는 크기. 일반적으로 스트라이드는 1픽셀을 사용\n",
    "- `풀링` : 가중치가 없고 특성 맵의 가로세로 크기를 줄이는 역할. 최대풀링과 평균 풀링"
   ]
  }
 ],
 "metadata": {
  "kernelspec": {
   "display_name": "Python 3 (ipykernel)",
   "language": "python",
   "name": "python3"
  },
  "language_info": {
   "codemirror_mode": {
    "name": "ipython",
    "version": 3
   },
   "file_extension": ".py",
   "mimetype": "text/x-python",
   "name": "python",
   "nbconvert_exporter": "python",
   "pygments_lexer": "ipython3",
   "version": "3.9.7"
  }
 },
 "nbformat": 4,
 "nbformat_minor": 5
}
