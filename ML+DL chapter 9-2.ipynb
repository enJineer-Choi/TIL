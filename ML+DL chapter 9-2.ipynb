{
  "nbformat": 4,
  "nbformat_minor": 0,
  "metadata": {
    "colab": {
      "provenance": [],
      "gpuType": "T4"
    },
    "kernelspec": {
      "name": "python3",
      "display_name": "Python 3"
    },
    "language_info": {
      "name": "python"
    },
    "accelerator": "GPU"
  },
  "cells": [
    {
      "cell_type": "markdown",
      "source": [
        "# Chapter 09 텍스트를 위한 인공 신경망\n",
        "- 텍스트와 시계열 데이터 같은 순차 데이터에 잘 맞는 순환 신경망의 개념과 구성 요소에 대해 배움\n",
        "- 케라스 API로 기본적인 순환 신경망에서 고급 순환 신경망을 만들어 영화 감상평을 분류\n",
        "- 순환 신경망에서 발생하는 문제점과 이를 극복하기 위한 해결책"
      ],
      "metadata": {
        "id": "_oAZUtJbLwPv"
      }
    },
    {
      "cell_type": "markdown",
      "source": [
        "## 9-2 순환 신경망으로 IMDB 리뷰 분류하기\n",
        "- 텐서플로를 사용해 순환 신경망을 만들어 영화 리뷰 데이터셋에 적용해서 리뷰를 긍정과 부정으로 분류"
      ],
      "metadata": {
        "id": "-uNKA4eLLwKd"
      }
    },
    {
      "cell_type": "markdown",
      "source": [
        "### IMDB 리뷰 데이터셋\n",
        "- Natural Language Processing (NLP)"
      ],
      "metadata": {
        "id": "kefSt0LqMFvu"
      }
    },
    {
      "cell_type": "code",
      "execution_count": 1,
      "metadata": {
        "colab": {
          "base_uri": "https://localhost:8080/"
        },
        "id": "jp1Hi7JRLns_",
        "outputId": "3f356bba-07ca-4614-c79b-4d011d2db10b"
      },
      "outputs": [
        {
          "output_type": "stream",
          "name": "stdout",
          "text": [
            "Downloading data from https://storage.googleapis.com/tensorflow/tf-keras-datasets/imdb.npz\n",
            "17464789/17464789 [==============================] - 2s 0us/step\n"
          ]
        }
      ],
      "source": [
        "from tensorflow.keras.datasets import imdb\n",
        "(train_input,train_target),(test_input,test_target)=imdb.load_data(num_words=300)"
      ]
    },
    {
      "cell_type": "code",
      "source": [
        "print(train_input.shape,test_input.shape)"
      ],
      "metadata": {
        "colab": {
          "base_uri": "https://localhost:8080/"
        },
        "id": "5dAZ0HIrMf22",
        "outputId": "0b28916b-f9e9-45e5-829f-281565c8f1a9"
      },
      "execution_count": 2,
      "outputs": [
        {
          "output_type": "stream",
          "name": "stdout",
          "text": [
            "(25000,) (25000,)\n"
          ]
        }
      ]
    },
    {
      "cell_type": "code",
      "source": [
        "from sklearn.model_selection import train_test_split\n",
        "train_input,val_input,train_target,val_target=train_test_split(train_input,train_target,test_size=0.2,random_state=42)"
      ],
      "metadata": {
        "id": "rPSffE9IMn-c"
      },
      "execution_count": 4,
      "outputs": []
    },
    {
      "cell_type": "code",
      "source": [
        "import numpy as np\n",
        "lengths=np.array([len(x) for x in train_input])"
      ],
      "metadata": {
        "id": "WuQ73IQxNC8H"
      },
      "execution_count": 5,
      "outputs": []
    },
    {
      "cell_type": "code",
      "source": [
        "import matplotlib.pyplot as plt\n",
        "plt.hist(lengths)\n",
        "plt.xlabel('length')\n",
        "plt.ylabel('frequency')\n",
        "plt.show()"
      ],
      "metadata": {
        "colab": {
          "base_uri": "https://localhost:8080/",
          "height": 449
        },
        "id": "suMsxYuYNO9e",
        "outputId": "da9dd02b-cc13-4af9-b41c-4edd06b5ec95"
      },
      "execution_count": 6,
      "outputs": [
        {
          "output_type": "display_data",
          "data": {
            "text/plain": [
              "<Figure size 640x480 with 1 Axes>"
            ],
            "image/png": "[encoded data removed]"
          },
          "metadata": {}
        }
      ]
    },
    {
      "cell_type": "code",
      "source": [
        "from tensorflow.keras.preprocessing.sequence import pad_sequences\n",
        "train_seq=pad_sequences(train_input,maxlen=100)"
      ],
      "metadata": {
        "id": "OIMIRp32NZmL"
      },
      "execution_count": 8,
      "outputs": []
    },
    {
      "cell_type": "code",
      "source": [
        "val_seq=pad_sequences(val_input,maxlen=100)"
      ],
      "metadata": {
        "id": "Tjqbd3DoNtH1"
      },
      "execution_count": 9,
      "outputs": []
    },
    {
      "cell_type": "markdown",
      "source": [
        "### 순환 신경망 만들기"
      ],
      "metadata": {
        "id": "2j6UQ4TrOPXC"
      }
    },
    {
      "cell_type": "code",
      "source": [
        "from tensorflow import keras\n",
        "model=keras.Sequential()\n",
        "model.add(keras.layers.SimpleRNN(8,input_shape=(100,300)))\n",
        "model.add(keras.layers.Dense(1,activation='sigmoid'))"
      ],
      "metadata": {
        "id": "zudtJVKCON2p"
      },
      "execution_count": 10,
      "outputs": []
    },
    {
      "cell_type": "code",
      "source": [
        "train_oh=keras.utils.to_categorical(train_seq)"
      ],
      "metadata": {
        "id": "TJaPYbn2Odw1"
      },
      "execution_count": 11,
      "outputs": []
    },
    {
      "cell_type": "code",
      "source": [
        "val_oh=keras.utils.to_categorical(val_seq)"
      ],
      "metadata": {
        "id": "_o5b9egJOj8J"
      },
      "execution_count": 12,
      "outputs": []
    },
    {
      "cell_type": "code",
      "source": [
        "model.summary()"
      ],
      "metadata": {
        "colab": {
          "base_uri": "https://localhost:8080/"
        },
        "id": "qOBRh-wpO8Mj",
        "outputId": "7ab63dae-400f-4941-a210-780cdc714aa2"
      },
      "execution_count": 13,
      "outputs": [
        {
          "output_type": "stream",
          "name": "stdout",
          "text": [
            "Model: \"sequential\"\n",
            "_________________________________________________________________\n",
            " Layer (type)                Output Shape              Param #   \n",
            "=================================================================\n",
            " simple_rnn (SimpleRNN)      (None, 8)                 2472      \n",
            "                                                                 \n",
            " dense (Dense)               (None, 1)                 9         \n",
            "                                                                 \n",
            "=================================================================\n",
            "Total params: 2481 (9.69 KB)\n",
            "Trainable params: 2481 (9.69 KB)\n",
            "Non-trainable params: 0 (0.00 Byte)\n",
            "_________________________________________________________________\n"
          ]
        }
      ]
    },
    {
      "cell_type": "markdown",
      "source": [
        "### 순환 신경망 훈련하기"
      ],
      "metadata": {
        "id": "6Lupy2XuPAgs"
      }
    },
    {
      "cell_type": "code",
      "source": [
        "rmsprop=keras.optimizers.RMSprop(learning_rate=1e-4)\n",
        "model.compile(optimizer=rmsprop,loss='binary_crossentropy',metrics=['accuracy'])\n",
        "checkpoint_cb=keras.callbacks.ModelCheckpoint('best-simplernn-model.h5',save_best_only=True)\n",
        "early_stopping_cb=keras.callbacks.EarlyStopping(patience=3,restore_best_weights=True)\n",
        "history=model.fit(train_oh,train_target,epochs=100,batch_size=64,validation_data=(val_oh,val_target),callbacks=[checkpoint_cb,early_stopping_cb])"
      ],
      "metadata": {
        "colab": {
          "base_uri": "https://localhost:8080/"
        },
        "id": "aUrykxEkO-Ku",
        "outputId": "eae214c9-be0d-415e-a627-69c577dabe02"
      },
      "execution_count": 15,
      "outputs": [
        {
          "output_type": "stream",
          "name": "stdout",
          "text": [
            "Epoch 1/100\n",
            "313/313 [==============================] - 31s 81ms/step - loss: 0.6950 - accuracy: 0.5156 - val_loss: 0.6899 - val_accuracy: 0.5362\n",
            "Epoch 2/100\n",
            "  2/313 [..............................] - ETA: 19s - loss: 0.6844 - accuracy: 0.5391"
          ]
        },
        {
          "output_type": "stream",
          "name": "stderr",
          "text": [
            "/usr/local/lib/python3.10/dist-packages/keras/src/engine/training.py:3000: UserWarning: You are saving your model as an HDF5 file via `model.save()`. This file format is considered legacy. We recommend using instead the native Keras format, e.g. `model.save('my_model.keras')`.\n",
            "  saving_api.save_model(\n"
          ]
        },
        {
          "output_type": "stream",
          "name": "stdout",
          "text": [
            "313/313 [==============================] - 24s 77ms/step - loss: 0.6833 - accuracy: 0.5573 - val_loss: 0.6758 - val_accuracy: 0.5838\n",
            "Epoch 3/100\n",
            "313/313 [==============================] - 27s 85ms/step - loss: 0.6627 - accuracy: 0.6084 - val_loss: 0.6538 - val_accuracy: 0.6212\n",
            "Epoch 4/100\n",
            "313/313 [==============================] - 24s 77ms/step - loss: 0.6435 - accuracy: 0.6387 - val_loss: 0.6381 - val_accuracy: 0.6456\n",
            "Epoch 5/100\n",
            "313/313 [==============================] - 24s 75ms/step - loss: 0.6290 - accuracy: 0.6568 - val_loss: 0.6252 - val_accuracy: 0.6640\n",
            "Epoch 6/100\n",
            "313/313 [==============================] - 24s 75ms/step - loss: 0.6171 - accuracy: 0.6743 - val_loss: 0.6138 - val_accuracy: 0.6782\n",
            "Epoch 7/100\n",
            "313/313 [==============================] - 23s 75ms/step - loss: 0.6056 - accuracy: 0.6896 - val_loss: 0.6065 - val_accuracy: 0.6910\n",
            "Epoch 8/100\n",
            "313/313 [==============================] - 25s 80ms/step - loss: 0.5952 - accuracy: 0.7006 - val_loss: 0.5940 - val_accuracy: 0.7014\n",
            "Epoch 9/100\n",
            "313/313 [==============================] - 23s 73ms/step - loss: 0.5858 - accuracy: 0.7105 - val_loss: 0.5867 - val_accuracy: 0.7044\n",
            "Epoch 10/100\n",
            "313/313 [==============================] - 24s 78ms/step - loss: 0.5774 - accuracy: 0.7168 - val_loss: 0.5796 - val_accuracy: 0.7122\n",
            "Epoch 11/100\n",
            "313/313 [==============================] - 23s 73ms/step - loss: 0.5692 - accuracy: 0.7271 - val_loss: 0.5735 - val_accuracy: 0.7146\n",
            "Epoch 12/100\n",
            "313/313 [==============================] - 23s 75ms/step - loss: 0.5616 - accuracy: 0.7305 - val_loss: 0.5655 - val_accuracy: 0.7208\n",
            "Epoch 13/100\n",
            "313/313 [==============================] - 23s 75ms/step - loss: 0.5556 - accuracy: 0.7359 - val_loss: 0.5591 - val_accuracy: 0.7256\n",
            "Epoch 14/100\n",
            "313/313 [==============================] - 24s 76ms/step - loss: 0.5501 - accuracy: 0.7398 - val_loss: 0.5547 - val_accuracy: 0.7284\n",
            "Epoch 15/100\n",
            "313/313 [==============================] - 24s 75ms/step - loss: 0.5454 - accuracy: 0.7410 - val_loss: 0.5563 - val_accuracy: 0.7288\n",
            "Epoch 16/100\n",
            "313/313 [==============================] - 24s 75ms/step - loss: 0.5399 - accuracy: 0.7455 - val_loss: 0.5468 - val_accuracy: 0.7322\n",
            "Epoch 17/100\n",
            "313/313 [==============================] - 24s 75ms/step - loss: 0.5350 - accuracy: 0.7460 - val_loss: 0.5430 - val_accuracy: 0.7338\n",
            "Epoch 18/100\n",
            "313/313 [==============================] - 23s 73ms/step - loss: 0.5313 - accuracy: 0.7497 - val_loss: 0.5397 - val_accuracy: 0.7384\n",
            "Epoch 19/100\n",
            "313/313 [==============================] - 23s 75ms/step - loss: 0.5273 - accuracy: 0.7506 - val_loss: 0.5363 - val_accuracy: 0.7396\n",
            "Epoch 20/100\n",
            "313/313 [==============================] - 24s 77ms/step - loss: 0.5234 - accuracy: 0.7528 - val_loss: 0.5341 - val_accuracy: 0.7392\n",
            "Epoch 21/100\n",
            "313/313 [==============================] - 23s 75ms/step - loss: 0.5207 - accuracy: 0.7548 - val_loss: 0.5293 - val_accuracy: 0.7422\n",
            "Epoch 22/100\n",
            "313/313 [==============================] - 23s 75ms/step - loss: 0.5168 - accuracy: 0.7580 - val_loss: 0.5267 - val_accuracy: 0.7432\n",
            "Epoch 23/100\n",
            "313/313 [==============================] - 24s 77ms/step - loss: 0.5142 - accuracy: 0.7592 - val_loss: 0.5239 - val_accuracy: 0.7442\n",
            "Epoch 24/100\n",
            "313/313 [==============================] - 23s 74ms/step - loss: 0.5115 - accuracy: 0.7599 - val_loss: 0.5233 - val_accuracy: 0.7440\n",
            "Epoch 25/100\n",
            "313/313 [==============================] - 24s 76ms/step - loss: 0.5088 - accuracy: 0.7606 - val_loss: 0.5239 - val_accuracy: 0.7398\n",
            "Epoch 26/100\n",
            "313/313 [==============================] - 23s 72ms/step - loss: 0.5067 - accuracy: 0.7649 - val_loss: 0.5235 - val_accuracy: 0.7368\n",
            "Epoch 27/100\n",
            "313/313 [==============================] - 24s 75ms/step - loss: 0.5045 - accuracy: 0.7644 - val_loss: 0.5181 - val_accuracy: 0.7470\n",
            "Epoch 28/100\n",
            "313/313 [==============================] - 23s 74ms/step - loss: 0.5028 - accuracy: 0.7662 - val_loss: 0.5175 - val_accuracy: 0.7490\n",
            "Epoch 29/100\n",
            "313/313 [==============================] - 24s 75ms/step - loss: 0.5010 - accuracy: 0.7649 - val_loss: 0.5156 - val_accuracy: 0.7476\n",
            "Epoch 30/100\n",
            "313/313 [==============================] - 23s 74ms/step - loss: 0.4997 - accuracy: 0.7660 - val_loss: 0.5152 - val_accuracy: 0.7464\n",
            "Epoch 31/100\n",
            "313/313 [==============================] - 23s 75ms/step - loss: 0.4979 - accuracy: 0.7677 - val_loss: 0.5128 - val_accuracy: 0.7506\n",
            "Epoch 32/100\n",
            "313/313 [==============================] - 23s 75ms/step - loss: 0.4965 - accuracy: 0.7668 - val_loss: 0.5114 - val_accuracy: 0.7502\n",
            "Epoch 33/100\n",
            "313/313 [==============================] - 23s 74ms/step - loss: 0.4950 - accuracy: 0.7694 - val_loss: 0.5108 - val_accuracy: 0.7526\n",
            "Epoch 34/100\n",
            "313/313 [==============================] - 23s 72ms/step - loss: 0.4939 - accuracy: 0.7678 - val_loss: 0.5108 - val_accuracy: 0.7500\n",
            "Epoch 35/100\n",
            "313/313 [==============================] - 23s 74ms/step - loss: 0.4926 - accuracy: 0.7686 - val_loss: 0.5094 - val_accuracy: 0.7488\n",
            "Epoch 36/100\n",
            "313/313 [==============================] - 24s 76ms/step - loss: 0.4911 - accuracy: 0.7714 - val_loss: 0.5075 - val_accuracy: 0.7528\n",
            "Epoch 37/100\n",
            "313/313 [==============================] - 24s 75ms/step - loss: 0.4907 - accuracy: 0.7697 - val_loss: 0.5085 - val_accuracy: 0.7540\n",
            "Epoch 38/100\n",
            "313/313 [==============================] - 23s 74ms/step - loss: 0.4891 - accuracy: 0.7689 - val_loss: 0.5086 - val_accuracy: 0.7544\n",
            "Epoch 39/100\n",
            "313/313 [==============================] - 23s 74ms/step - loss: 0.4882 - accuracy: 0.7711 - val_loss: 0.5088 - val_accuracy: 0.7512\n"
          ]
        }
      ]
    },
    {
      "cell_type": "code",
      "source": [
        "plt.plot(history.history['loss'])\n",
        "plt.plot(history.history['val_loss'])\n",
        "plt.xlabel('epoch')\n",
        "plt.ylabel('loss')\n",
        "plt.legend(['train','val'])\n",
        "plt.show()"
      ],
      "metadata": {
        "colab": {
          "base_uri": "https://localhost:8080/",
          "height": 449
        },
        "id": "wU-WS7L6Ps7T",
        "outputId": "cc34ee50-35b7-46a8-e04e-3e661aa5546f"
      },
      "execution_count": 16,
      "outputs": [
        {
          "output_type": "display_data",
          "data": {
            "text/plain": [
              "<Figure size 640x480 with 1 Axes>"
            ],
            "image/png": "[encoded data removed]"
          },
          "metadata": {}
        }
      ]
    },
    {
      "cell_type": "markdown",
      "source": [
        "### 마무리\n",
        "- `말뭉치` : 자연어 처리에서 사용하는 텍스트 데이터의 모음 = 훈련 데이터셋\n",
        "- `토큰` : 텍스트에서 공백으로 구분되는 문자열.\n",
        "- `원-핫 인코딩` : 어떤 클래스에 해당하는 원소만 1이고 나머지는 모두 0인 벡터. 정수로 변환된 토큰을 원-핫 인코딩으로 변환하려면 어휘 사전 크기의 벡터가 만들어짐\n",
        "- `단어 임베딩` : 정수로 변환된 토큰을 비교적 작은 크기의 실수 밀집 벡터로 변환. 이런 밀집 벡터는 단어 사이의 관계를 표현할 수 있기 때문에 자연어 처리에서 좋은 성능을 발휘"
      ],
      "metadata": {
        "id": "Sh8RCxy8UGQd"
      }
    }
  ]
}